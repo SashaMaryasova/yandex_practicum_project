{
 "cells": [
  {
   "cell_type": "markdown",
   "metadata": {},
   "source": [
    " ## Определение перспективного продукта для интернет-магазина компьютерных игр"
   ]
  },
  {
   "cell_type": "markdown",
   "metadata": {},
   "source": [
    "Интернет-магазин продает компьютерные игры по всему миру. Мы взяли из открытых источников доступные исторические данные о продажах игр, оценки пользователей и экспертов, жанры и платформы (например, Xbox или PlayStation). Нам нужно выявить определяющие успешность игры закономерности. Это позволит сделать ставку на потенциально популярный продукт и спланировать рекламные кампании. Перед нами данные до неполного 2016 года. Нам предстоит спланировать кампанию на 2017-й.  \n",
    "\n",
    "Основные шаги по выполнению поставленной задачи:\n",
    "\n",
    "- Открыть файл с данными и изучить общую информацию.\n",
    "- Подготовить данные для анализа: \n",
    "    - Преобразовать данные в нужные типы.\n",
    "    - Обработать пропуски при необходимости.\n",
    "    - Посчитать суммарные продажи во всех регионах и др.\n",
    "- Проанализировать данные: \n",
    "    - Посмотреть, сколько игр выпускалось в разные годы. Решить, важны ли данные за все периоды.\n",
    "    - Посмотреть, как менялись продажи по платформам. За какой характерный срок появляются новые и исчезают старые платформы?\n",
    "    - Какие платформы лидируют по продажам, растут или падают? \n",
    "    - Посмотреть на общее распределение игр по жанрам. Что можно сказать о самых прибыльных жанрах? Выделяются ли жанры с высокими и низкими продажами?\n",
    "- Составить портрет пользователя каждого региона:\n",
    "    - Определить для пользователя каждого региона (NA, EU, JP): самые популярные платформы (топ-5); самые популярные жанры (топ-5); влияет ли рейтинг ESRB на продажи в отдельном регионе.\n",
    "- Проверить гипотезы. \n",
    "- Сделать вывод — какой продукт продвигать интернет-магазину.\n",
    "\n",
    "\n",
    "В наборе данных попадается аббревиатура ESRB (Entertainment Software Rating Board) — это ассоциация, определяющая возрастной рейтинг компьютерных игр. ESRB оценивает игровой контент и присваивает ему подходящую возрастную категорию, например, «Для взрослых», «Для детей младшего возраста» или «Для подростков».\n"
   ]
  },
  {
   "cell_type": "markdown",
   "metadata": {},
   "source": [
    "Описание данных\n",
    "- Name — название игры\n",
    "- Platform — платформа\n",
    "- Year_of_Release — год выпуска\n",
    "- Genre — жанр игры\n",
    "- NA_sales — продажи в Северной Америке (миллионы проданных копий)\n",
    "- EU_sales — продажи в Европе (миллионы проданных копий)\n",
    "- JP_sales — продажи в Японии (миллионы проданных копий)\n",
    "- Other_sales — продажи в других странах (миллионы проданных копий)\n",
    "- Critic_Score — оценка критиков (максимум 100)\n",
    "- User_Score — оценка пользователей (максимум 10)\n",
    "- Rating — рейтинг от организации ESRB (англ. Entertainment Software Rating Board). Эта ассоциация определяет рейтинг компьютерных игр и присваивает им подходящую возрастную категорию."
   ]
  },
  {
   "cell_type": "markdown",
   "metadata": {
    "toc": true
   },
   "source": [
    "<h1>Оглавление<span class=\"tocSkip\"></span></h1>\n",
    "<div class=\"toc\"><ul class=\"toc-item\"><li><span><a href=\"#Определение-перспективного-продукта-для-интернет-магазина-компьютерных-игр\" data-toc-modified-id=\"Определение-перспективного-продукта-для-интернет-магазина-компьютерных-игр-1\">Определение перспективного продукта для интернет-магазина компьютерных игр</a></span><ul class=\"toc-item\"><li><span><a href=\"#Шаг-1.-Откроем-файл-и-изучим-общую-информацию\" data-toc-modified-id=\"Шаг-1.-Откроем-файл-и-изучим-общую-информацию-1.1\">Шаг 1. Откроем файл и изучим общую информацию</a></span></li><li><span><a href=\"#Вывод\" data-toc-modified-id=\"Вывод-1.2\">Вывод</a></span></li><li><span><a href=\"#Шаг-2.-Подготовим-данные\" data-toc-modified-id=\"Шаг-2.-Подготовим-данные-1.3\">Шаг 2. Подготовим данные</a></span></li><li><span><a href=\"#Вывод\" data-toc-modified-id=\"Вывод-1.4\">Вывод</a></span></li><li><span><a href=\"#Шаг-3.-Проведем-исследовательский-анализ-данных\" data-toc-modified-id=\"Шаг-3.-Проведем-исследовательский-анализ-данных-1.5\">Шаг 3. Проведем исследовательский анализ данных</a></span></li><li><span><a href=\"#Вывод\" data-toc-modified-id=\"Вывод-1.6\">Вывод</a></span></li><li><span><a href=\"#Шаг-4.-Составим-портрет-пользователя-каждого-региона\" data-toc-modified-id=\"Шаг-4.-Составим-портрет-пользователя-каждого-региона-1.7\">Шаг 4. Составим портрет пользователя каждого региона</a></span></li><li><span><a href=\"#Вывод\" data-toc-modified-id=\"Вывод-1.8\">Вывод</a></span></li><li><span><a href=\"#Шаг-5.-Проверим-гипотезы\" data-toc-modified-id=\"Шаг-5.-Проверим-гипотезы-1.9\">Шаг 5. Проверим гипотезы</a></span></li><li><span><a href=\"#Вывод\" data-toc-modified-id=\"Вывод-1.10\">Вывод</a></span></li><li><span><a href=\"#Шаг-6.-Напишим-общий-вывод\" data-toc-modified-id=\"Шаг-6.-Напишим-общий-вывод-1.11\">Шаг 6. Напишим общий вывод</a></span></li></ul></li></ul></div>"
   ]
  },
  {
   "cell_type": "markdown",
   "metadata": {},
   "source": [
    "### Шаг 1. Откроем файл и изучим общую информацию"
   ]
  },
  {
   "cell_type": "code",
   "execution_count": 1,
   "metadata": {},
   "outputs": [],
   "source": [
    "import pandas as pd \n",
    "import matplotlib.pyplot as plt \n",
    "import numpy as np \n",
    "import seaborn as sns\n",
    "from math import factorial\n",
    "from scipy import stats as st"
   ]
  },
  {
   "cell_type": "code",
   "execution_count": 2,
   "metadata": {},
   "outputs": [],
   "source": [
    "df = pd.read_csv('/datasets/games.csv') "
   ]
  },
  {
   "cell_type": "code",
   "execution_count": 3,
   "metadata": {},
   "outputs": [
    {
     "name": "stdout",
     "output_type": "stream",
     "text": [
      "<class 'pandas.core.frame.DataFrame'>\n",
      "RangeIndex: 16715 entries, 0 to 16714\n",
      "Data columns (total 11 columns):\n",
      "Name               16713 non-null object\n",
      "Platform           16715 non-null object\n",
      "Year_of_Release    16446 non-null float64\n",
      "Genre              16713 non-null object\n",
      "NA_sales           16715 non-null float64\n",
      "EU_sales           16715 non-null float64\n",
      "JP_sales           16715 non-null float64\n",
      "Other_sales        16715 non-null float64\n",
      "Critic_Score       8137 non-null float64\n",
      "User_Score         10014 non-null object\n",
      "Rating             9949 non-null object\n",
      "dtypes: float64(6), object(5)\n",
      "memory usage: 1.4+ MB\n"
     ]
    }
   ],
   "source": [
    "df.info()"
   ]
  },
  {
   "cell_type": "code",
   "execution_count": 4,
   "metadata": {},
   "outputs": [
    {
     "data": {
      "text/html": [
       "<style  type=\"text/css\" >\n",
       "    #T_d137b47e_83da_11eb_8808_02420a3975c8row0_col0 {\n",
       "            background-color:  #3b4cc0;\n",
       "            color:  #f1f1f1;\n",
       "        }    #T_d137b47e_83da_11eb_8808_02420a3975c8row1_col0 {\n",
       "            background-color:  #3b4cc0;\n",
       "            color:  #f1f1f1;\n",
       "        }    #T_d137b47e_83da_11eb_8808_02420a3975c8row2_col0 {\n",
       "            background-color:  #4358cb;\n",
       "            color:  #f1f1f1;\n",
       "        }    #T_d137b47e_83da_11eb_8808_02420a3975c8row3_col0 {\n",
       "            background-color:  #3b4cc0;\n",
       "            color:  #f1f1f1;\n",
       "        }    #T_d137b47e_83da_11eb_8808_02420a3975c8row4_col0 {\n",
       "            background-color:  #3b4cc0;\n",
       "            color:  #f1f1f1;\n",
       "        }    #T_d137b47e_83da_11eb_8808_02420a3975c8row5_col0 {\n",
       "            background-color:  #3b4cc0;\n",
       "            color:  #f1f1f1;\n",
       "        }    #T_d137b47e_83da_11eb_8808_02420a3975c8row6_col0 {\n",
       "            background-color:  #3b4cc0;\n",
       "            color:  #f1f1f1;\n",
       "        }    #T_d137b47e_83da_11eb_8808_02420a3975c8row7_col0 {\n",
       "            background-color:  #3b4cc0;\n",
       "            color:  #f1f1f1;\n",
       "        }    #T_d137b47e_83da_11eb_8808_02420a3975c8row8_col0 {\n",
       "            background-color:  #b40426;\n",
       "            color:  #f1f1f1;\n",
       "        }    #T_d137b47e_83da_11eb_8808_02420a3975c8row9_col0 {\n",
       "            background-color:  #f08b6e;\n",
       "            color:  #000000;\n",
       "        }    #T_d137b47e_83da_11eb_8808_02420a3975c8row10_col0 {\n",
       "            background-color:  #ef886b;\n",
       "            color:  #000000;\n",
       "        }</style><table id=\"T_d137b47e_83da_11eb_8808_02420a3975c8\" ><thead>    <tr>        <th class=\"blank level0\" ></th>        <th class=\"col_heading level0 col0\" >0</th>    </tr></thead><tbody>\n",
       "                <tr>\n",
       "                        <th id=\"T_d137b47e_83da_11eb_8808_02420a3975c8level0_row0\" class=\"row_heading level0 row0\" >Name</th>\n",
       "                        <td id=\"T_d137b47e_83da_11eb_8808_02420a3975c8row0_col0\" class=\"data row0 col0\" >0</td>\n",
       "            </tr>\n",
       "            <tr>\n",
       "                        <th id=\"T_d137b47e_83da_11eb_8808_02420a3975c8level0_row1\" class=\"row_heading level0 row1\" >Platform</th>\n",
       "                        <td id=\"T_d137b47e_83da_11eb_8808_02420a3975c8row1_col0\" class=\"data row1 col0\" >0</td>\n",
       "            </tr>\n",
       "            <tr>\n",
       "                        <th id=\"T_d137b47e_83da_11eb_8808_02420a3975c8level0_row2\" class=\"row_heading level0 row2\" >Year_of_Release</th>\n",
       "                        <td id=\"T_d137b47e_83da_11eb_8808_02420a3975c8row2_col0\" class=\"data row2 col0\" >1.6</td>\n",
       "            </tr>\n",
       "            <tr>\n",
       "                        <th id=\"T_d137b47e_83da_11eb_8808_02420a3975c8level0_row3\" class=\"row_heading level0 row3\" >Genre</th>\n",
       "                        <td id=\"T_d137b47e_83da_11eb_8808_02420a3975c8row3_col0\" class=\"data row3 col0\" >0</td>\n",
       "            </tr>\n",
       "            <tr>\n",
       "                        <th id=\"T_d137b47e_83da_11eb_8808_02420a3975c8level0_row4\" class=\"row_heading level0 row4\" >NA_sales</th>\n",
       "                        <td id=\"T_d137b47e_83da_11eb_8808_02420a3975c8row4_col0\" class=\"data row4 col0\" >0</td>\n",
       "            </tr>\n",
       "            <tr>\n",
       "                        <th id=\"T_d137b47e_83da_11eb_8808_02420a3975c8level0_row5\" class=\"row_heading level0 row5\" >EU_sales</th>\n",
       "                        <td id=\"T_d137b47e_83da_11eb_8808_02420a3975c8row5_col0\" class=\"data row5 col0\" >0</td>\n",
       "            </tr>\n",
       "            <tr>\n",
       "                        <th id=\"T_d137b47e_83da_11eb_8808_02420a3975c8level0_row6\" class=\"row_heading level0 row6\" >JP_sales</th>\n",
       "                        <td id=\"T_d137b47e_83da_11eb_8808_02420a3975c8row6_col0\" class=\"data row6 col0\" >0</td>\n",
       "            </tr>\n",
       "            <tr>\n",
       "                        <th id=\"T_d137b47e_83da_11eb_8808_02420a3975c8level0_row7\" class=\"row_heading level0 row7\" >Other_sales</th>\n",
       "                        <td id=\"T_d137b47e_83da_11eb_8808_02420a3975c8row7_col0\" class=\"data row7 col0\" >0</td>\n",
       "            </tr>\n",
       "            <tr>\n",
       "                        <th id=\"T_d137b47e_83da_11eb_8808_02420a3975c8level0_row8\" class=\"row_heading level0 row8\" >Critic_Score</th>\n",
       "                        <td id=\"T_d137b47e_83da_11eb_8808_02420a3975c8row8_col0\" class=\"data row8 col0\" >51.3</td>\n",
       "            </tr>\n",
       "            <tr>\n",
       "                        <th id=\"T_d137b47e_83da_11eb_8808_02420a3975c8level0_row9\" class=\"row_heading level0 row9\" >User_Score</th>\n",
       "                        <td id=\"T_d137b47e_83da_11eb_8808_02420a3975c8row9_col0\" class=\"data row9 col0\" >40.1</td>\n",
       "            </tr>\n",
       "            <tr>\n",
       "                        <th id=\"T_d137b47e_83da_11eb_8808_02420a3975c8level0_row10\" class=\"row_heading level0 row10\" >Rating</th>\n",
       "                        <td id=\"T_d137b47e_83da_11eb_8808_02420a3975c8row10_col0\" class=\"data row10 col0\" >40.5</td>\n",
       "            </tr>\n",
       "    </tbody></table>"
      ],
      "text/plain": [
       "<pandas.io.formats.style.Styler at 0x7f27f7a1f310>"
      ]
     },
     "execution_count": 4,
     "metadata": {},
     "output_type": "execute_result"
    }
   ],
   "source": [
    "pd.DataFrame(round(df.isna().mean()*100,1)).style.background_gradient('coolwarm')"
   ]
  },
  {
   "cell_type": "code",
   "execution_count": 5,
   "metadata": {},
   "outputs": [
    {
     "data": {
      "text/plain": [
       "0"
      ]
     },
     "execution_count": 5,
     "metadata": {},
     "output_type": "execute_result"
    }
   ],
   "source": [
    "df.duplicated().sum()"
   ]
  },
  {
   "cell_type": "markdown",
   "metadata": {},
   "source": [
    "### Вывод"
   ]
  },
  {
   "cell_type": "markdown",
   "metadata": {},
   "source": [
    "В первом шаге нашей исследовательской работы мы открыли файл с данными и изучили общую информацию о датасете. Всего в таблице 11 столбцов и более 16 тысяч строк, содержащих информацию о компьютерных играх. \n",
    "\n",
    "Столбцы 'Name' (название игры), 'Platform' (платформа), 'Genre' (жанр игры), 'User_Score' (оценка пользователей (максимум 10)), 'Rating' (рейтинг от организации ESRB) имеют тип данных object. \n",
    "\n",
    "Столбцы 'Year_of_Release' (год выпуска), 'NA_sales' (продажи в Северной Америке), 'EU_sales'(продажи в Европе), 'JP_sales' (продажи в Японии), 'Other_sales' (продажи в других странах), 'Critic_Score' (оценка критиков (максимум 100)) имеют тип данных float64. В ходе дальнейшей работы нам предстоит преобразовать данные в нужный тип.\n",
    "\n",
    "Также мы узнали, что в таблице в столбцах 'Year_of_Release' (год выпуска), 'Genre' (жанр игры), 'Genre Critic_Score' (оценка критиков (максимум 100)), 'User_Score' (оценка пользователей (максимум 10)), 'Rating' (рейтинг от организации ESRB) есть пропущенные значения. Вероятнее всего, пропуски в столбцах с оценками критиков и пользователей и рейтингом случайные, они говорят о том, что просто не набралось достаточно оценок, чтобы выставить конкретный рейтинг по системе агрегатора. Будем заменять их маркерными значениями. А вот пропуски в столбце год удалим, их мало, они не отразятся на данных.\n",
    "\n",
    "Кроме того, названия всех столбцов написаны в разных регистрах, необходимо привести их к единому виду. Дубликатов в данных нет. "
   ]
  },
  {
   "cell_type": "markdown",
   "metadata": {},
   "source": [
    "### Шаг 2. Подготовим данные"
   ]
  },
  {
   "cell_type": "markdown",
   "metadata": {},
   "source": [
    "Начнем работу с того, что приведем к нижнему регистру названия столбцов."
   ]
  },
  {
   "cell_type": "code",
   "execution_count": 7,
   "metadata": {},
   "outputs": [],
   "source": [
    "df.columns = map(str.lower, df.columns)"
   ]
  },
  {
   "cell_type": "markdown",
   "metadata": {},
   "source": [
    "Преобразуем данные в нужные типы. Столбец 'year_of_release', обозначающий год выпуска игры, сделаем целочисленным. Это логично для года. Также к типу int64 приведем столбец 'critic_score', мы знаем, что он обозначает оценку критиков (максимум 100). Судя по датасету, оценки критиков являются целочисленными, но посмотрим сначала все значения. А также из текстового типа в float64 переведем столбец 'user_score', обозначающий оценку пользователей (максимум 10). \n",
    "\n",
    "Однако мы знаем, что в указанных столбцах есть пропуски, поэтому сначала нужно обработать их, а затем работать с типом данных. Посмотрим, что содержит столбец 'user_score', в котором содержатся оценки, может его содержание объяснит, как он получил тип данных object."
   ]
  },
  {
   "cell_type": "code",
   "execution_count": 8,
   "metadata": {},
   "outputs": [
    {
     "data": {
      "text/plain": [
       "array(['8', nan, '8.3', '8.5', '6.6', '8.4', '8.6', '7.7', '6.3', '7.4',\n",
       "       '8.2', '9', '7.9', '8.1', '8.7', '7.1', '3.4', '5.3', '4.8', '3.2',\n",
       "       '8.9', '6.4', '7.8', '7.5', '2.6', '7.2', '9.2', '7', '7.3', '4.3',\n",
       "       '7.6', '5.7', '5', '9.1', '6.5', 'tbd', '8.8', '6.9', '9.4', '6.8',\n",
       "       '6.1', '6.7', '5.4', '4', '4.9', '4.5', '9.3', '6.2', '4.2', '6',\n",
       "       '3.7', '4.1', '5.8', '5.6', '5.5', '4.4', '4.6', '5.9', '3.9',\n",
       "       '3.1', '2.9', '5.2', '3.3', '4.7', '5.1', '3.5', '2.5', '1.9', '3',\n",
       "       '2.7', '2.2', '2', '9.5', '2.1', '3.6', '2.8', '1.8', '3.8', '0',\n",
       "       '1.6', '9.6', '2.4', '1.7', '1.1', '0.3', '1.5', '0.7', '1.2',\n",
       "       '2.3', '0.5', '1.3', '0.2', '0.6', '1.4', '0.9', '1', '9.7'],\n",
       "      dtype=object)"
      ]
     },
     "execution_count": 8,
     "metadata": {},
     "output_type": "execute_result"
    }
   ],
   "source": [
    "df['user_score'].unique() "
   ]
  },
  {
   "cell_type": "markdown",
   "metadata": {},
   "source": [
    "Помимо пропусков, в данных встречаются значения 'tbd', они означают, что рейтинг игры еще не определен. Вероятнее, пропуски говорят о том же. Заменим пропуски и 'tbd' на маркерное значение, которое будем учитывать, при дальнейших расчетах."
   ]
  },
  {
   "cell_type": "code",
   "execution_count": 9,
   "metadata": {},
   "outputs": [],
   "source": [
    "df['user_score'] = df['user_score'].fillna(-1).replace('tbd', -1)"
   ]
  },
  {
   "cell_type": "markdown",
   "metadata": {},
   "source": [
    "Теперь можем перевести object в тип float."
   ]
  },
  {
   "cell_type": "code",
   "execution_count": 10,
   "metadata": {},
   "outputs": [],
   "source": [
    "df['user_score'] = pd.to_numeric(df['user_score'])"
   ]
  },
  {
   "cell_type": "markdown",
   "metadata": {},
   "source": [
    "В столбце 'year_of_release' есть пропуски, их также нужно сначала обработать. Так как пропусков немного - 1.6%, мы просто удалим пропущенных значения. Они не повлияют на наши данные. Заодно удалим несколько пустых значений 'genre'."
   ]
  },
  {
   "cell_type": "code",
   "execution_count": 11,
   "metadata": {},
   "outputs": [],
   "source": [
    "df.dropna(subset=['year_of_release', 'genre'], inplace=True)"
   ]
  },
  {
   "cell_type": "markdown",
   "metadata": {},
   "source": [
    "Проверим уникальные значения слолбца с оценками критиков."
   ]
  },
  {
   "cell_type": "code",
   "execution_count": 12,
   "metadata": {},
   "outputs": [
    {
     "data": {
      "text/plain": [
       "array([76., nan, 82., 80., 89., 58., 87., 91., 61., 97., 95., 77., 88.,\n",
       "       83., 94., 93., 85., 86., 98., 96., 90., 84., 73., 74., 78., 92.,\n",
       "       71., 72., 68., 62., 49., 67., 81., 66., 56., 79., 70., 59., 64.,\n",
       "       75., 60., 63., 69., 50., 25., 42., 44., 55., 48., 57., 29., 47.,\n",
       "       65., 54., 20., 53., 37., 38., 33., 52., 30., 32., 43., 45., 51.,\n",
       "       40., 46., 39., 34., 41., 36., 31., 27., 35., 26., 19., 28., 23.,\n",
       "       24., 21., 17., 13.])"
      ]
     },
     "execution_count": 12,
     "metadata": {},
     "output_type": "execute_result"
    }
   ],
   "source": [
    "df['critic_score'].unique() "
   ]
  },
  {
   "cell_type": "markdown",
   "metadata": {},
   "source": [
    "Так мы убедились, что столбец 'critic_score' можно перевести в целочисленный тип данных. Вероятнее всего, по аналогии с рейтингом пользователей, пропуски говорят о том, что просто не набралось достаточно оценок, чтобы выставить конкретный рейтинг. Заменим пропуски на маркерное значение."
   ]
  },
  {
   "cell_type": "code",
   "execution_count": 13,
   "metadata": {},
   "outputs": [],
   "source": [
    "df['critic_score'] = df['critic_score'].fillna(-1)"
   ]
  },
  {
   "cell_type": "markdown",
   "metadata": {},
   "source": [
    "Переведем столбцы в целочисленный тип данных."
   ]
  },
  {
   "cell_type": "code",
   "execution_count": 14,
   "metadata": {},
   "outputs": [],
   "source": [
    "df[\n",
    "    ['year_of_release', 'critic_score']\n",
    "] = df[\n",
    "    ['year_of_release', 'critic_score']\n",
    "].astype('int64')"
   ]
  },
  {
   "cell_type": "markdown",
   "metadata": {},
   "source": [
    "Мы обработали практически все столбцы с пропусками. Остался столбец 'rating'. Но сначала посмотрим его уникальные значения."
   ]
  },
  {
   "cell_type": "code",
   "execution_count": 15,
   "metadata": {},
   "outputs": [
    {
     "data": {
      "text/plain": [
       "array(['E', nan, 'M', 'T', 'E10+', 'K-A', 'AO', 'EC', 'RP'], dtype=object)"
      ]
     },
     "execution_count": 15,
     "metadata": {},
     "output_type": "execute_result"
    }
   ],
   "source": [
    "df['rating'].unique() "
   ]
  },
  {
   "cell_type": "markdown",
   "metadata": {},
   "source": [
    "ESRB проставляют рейтинг играм обычно до релиза. Мы понимаем, что рейтинг не зависит, например, от года выпуска игры или жанра. Поэтому, там, где рейтинг не проставлен, заменим пропуски на «undefined». "
   ]
  },
  {
   "cell_type": "code",
   "execution_count": 16,
   "metadata": {},
   "outputs": [],
   "source": [
    "df['rating'] = df['rating'].fillna('undefined')"
   ]
  },
  {
   "cell_type": "markdown",
   "metadata": {},
   "source": [
    "Теперь можем посчитать суммарные продажи во всех регионах и записать их в отдельный столбец."
   ]
  },
  {
   "cell_type": "code",
   "execution_count": 17,
   "metadata": {},
   "outputs": [],
   "source": [
    "df['sales'] = df['na_sales'] + df['eu_sales'] + df['jp_sales'] + df['other_sales']"
   ]
  },
  {
   "cell_type": "markdown",
   "metadata": {},
   "source": [
    "Проверим еще раз датасет на пропуски и тип данных. Выведем таблицу на экран."
   ]
  },
  {
   "cell_type": "code",
   "execution_count": 18,
   "metadata": {},
   "outputs": [
    {
     "name": "stdout",
     "output_type": "stream",
     "text": [
      "<class 'pandas.core.frame.DataFrame'>\n",
      "Int64Index: 16444 entries, 0 to 16714\n",
      "Data columns (total 12 columns):\n",
      "name               16444 non-null object\n",
      "platform           16444 non-null object\n",
      "year_of_release    16444 non-null int64\n",
      "genre              16444 non-null object\n",
      "na_sales           16444 non-null float64\n",
      "eu_sales           16444 non-null float64\n",
      "jp_sales           16444 non-null float64\n",
      "other_sales        16444 non-null float64\n",
      "critic_score       16444 non-null int64\n",
      "user_score         16444 non-null float64\n",
      "rating             16444 non-null object\n",
      "sales              16444 non-null float64\n",
      "dtypes: float64(6), int64(2), object(4)\n",
      "memory usage: 1.6+ MB\n"
     ]
    }
   ],
   "source": [
    "df.info()"
   ]
  },
  {
   "cell_type": "markdown",
   "metadata": {},
   "source": [
    "### Вывод"
   ]
  },
  {
   "cell_type": "markdown",
   "metadata": {},
   "source": [
    "Во втором шаге нашей работы, мы подготовили датасет, с которым продолжим работать дальше. Мы заменили названия столбцов, привели их к нижнему регистру, обработали пропуски в столбцах 'year_of_release', 'genre', 'critic_score', 'user_score', 'rating'  и объяснили почему заполнили их определенным образом, преобразовали тип данных в столбцах 'year_of_release', 'critic_score', 'user_score'. Также в таблице посвился новый столбец 'sales', который показывает суммарные продажи во всех регионах."
   ]
  },
  {
   "cell_type": "markdown",
   "metadata": {},
   "source": [
    "### Шаг 3. Проведем исследовательский анализ данных"
   ]
  },
  {
   "cell_type": "markdown",
   "metadata": {},
   "source": [
    "Посмотрим, сколько игр выпускалось в разные годы. И важны ли данные за все периоды? "
   ]
  },
  {
   "cell_type": "code",
   "execution_count": 20,
   "metadata": {},
   "outputs": [
    {
     "data": {
      "image/png": "[encoded data removed]",
      "text/plain": [
       "<Figure size 936x288 with 1 Axes>"
      ]
     },
     "metadata": {
      "needs_background": "light"
     },
     "output_type": "display_data"
    }
   ],
   "source": [
    "games_year = df.groupby(['year_of_release'])['name'].count()\n",
    "\n",
    "plt.figure(figsize=(13,4))\n",
    "games_year.plot(kind = 'bar', color='turquoise')\n",
    "plt.title('Количество игр в разные годы', fontsize=22)\n",
    "plt.xlabel('Год')\n",
    "plt.ylabel('Количество игр')\n",
    "plt.grid()\n",
    "plt.show()"
   ]
  },
  {
   "cell_type": "markdown",
   "metadata": {},
   "source": [
    "Мы располагаем данными об играх, выпускаемых с 1980 по 2016 годы. График показывает, что больше всего игр выпускалось в 2008 и 2009 годах. Рост количества игр наблюдается с 1995 года. Можем сделать вывод, что до этого года компьютерные игры - редкий продукт. Это объясняется также развитием технологий. Также можем предположить, что спад в индустрии в последние годы вызван тем, что выпущенные ранее консоли стали устаревать, на них перестали выпускать новые игры. Эту гипотезу сможем проверить следующими пунктами."
   ]
  },
  {
   "cell_type": "markdown",
   "metadata": {},
   "source": [
    "Посмотрим, как менялись продажи по платформам. Выберем семь платформ с наибольшими суммарными продажами и построим распределение по годам. Определим, за какой характерный срок появляются новые и исчезают старые платформы?"
   ]
  },
  {
   "cell_type": "code",
   "execution_count": 21,
   "metadata": {},
   "outputs": [
    {
     "data": {
      "text/html": [
       "<div>\n",
       "<style scoped>\n",
       "    .dataframe tbody tr th:only-of-type {\n",
       "        vertical-align: middle;\n",
       "    }\n",
       "\n",
       "    .dataframe tbody tr th {\n",
       "        vertical-align: top;\n",
       "    }\n",
       "\n",
       "    .dataframe thead th {\n",
       "        text-align: right;\n",
       "    }\n",
       "</style>\n",
       "<table border=\"1\" class=\"dataframe\">\n",
       "  <thead>\n",
       "    <tr style=\"text-align: right;\">\n",
       "      <th></th>\n",
       "      <th>sales</th>\n",
       "    </tr>\n",
       "    <tr>\n",
       "      <th>platform</th>\n",
       "      <th></th>\n",
       "    </tr>\n",
       "  </thead>\n",
       "  <tbody>\n",
       "    <tr>\n",
       "      <td>PS2</td>\n",
       "      <td>1233.56</td>\n",
       "    </tr>\n",
       "    <tr>\n",
       "      <td>X360</td>\n",
       "      <td>961.24</td>\n",
       "    </tr>\n",
       "    <tr>\n",
       "      <td>PS3</td>\n",
       "      <td>931.34</td>\n",
       "    </tr>\n",
       "    <tr>\n",
       "      <td>Wii</td>\n",
       "      <td>891.18</td>\n",
       "    </tr>\n",
       "    <tr>\n",
       "      <td>DS</td>\n",
       "      <td>802.78</td>\n",
       "    </tr>\n",
       "    <tr>\n",
       "      <td>PS</td>\n",
       "      <td>727.58</td>\n",
       "    </tr>\n",
       "    <tr>\n",
       "      <td>PS4</td>\n",
       "      <td>314.14</td>\n",
       "    </tr>\n",
       "  </tbody>\n",
       "</table>\n",
       "</div>"
      ],
      "text/plain": [
       "            sales\n",
       "platform         \n",
       "PS2       1233.56\n",
       "X360       961.24\n",
       "PS3        931.34\n",
       "Wii        891.18\n",
       "DS         802.78\n",
       "PS         727.58\n",
       "PS4        314.14"
      ]
     },
     "execution_count": 21,
     "metadata": {},
     "output_type": "execute_result"
    }
   ],
   "source": [
    "sales_platform = (df\n",
    "                  .groupby('platform').agg({'sales':'sum'})\n",
    "                  .sort_values(by =('sales'), ascending = False)\n",
    "                  .head(7)\n",
    "                 )\n",
    "sales_platform"
   ]
  },
  {
   "cell_type": "code",
   "execution_count": 22,
   "metadata": {},
   "outputs": [
    {
     "data": {
      "image/png": "[encoded data removed]",
      "text/plain": [
       "<Figure size 1440x360 with 1 Axes>"
      ]
     },
     "metadata": {
      "needs_background": "light"
     },
     "output_type": "display_data"
    }
   ],
   "source": [
    "year_platform = (df\n",
    "                 .query('platform in @sales_platform.index')\n",
    "                 .pivot_table(index= 'year_of_release', columns='platform', values='sales', aggfunc= 'sum')\n",
    "                 .plot(kind = 'bar', figsize=(20,5))\n",
    "                )\n",
    "plt.title('Суммарные продажи платформ по годам', fontsize=22)\n",
    "plt.xlabel('Год')\n",
    "plt.ylabel('Суммарные продажи')\n",
    "plt.grid()\n",
    "plt.show()"
   ]
  },
  {
   "cell_type": "markdown",
   "metadata": {},
   "source": [
    "С помощью группировки для каждой платформы узнаем минимальный и максимальный год релиза. Посмотрим распределение времени жизни платформы, посмотрим медиану."
   ]
  },
  {
   "cell_type": "code",
   "execution_count": 23,
   "metadata": {},
   "outputs": [
    {
     "data": {
      "text/html": [
       "<div>\n",
       "<style scoped>\n",
       "    .dataframe tbody tr th:only-of-type {\n",
       "        vertical-align: middle;\n",
       "    }\n",
       "\n",
       "    .dataframe tbody tr th {\n",
       "        vertical-align: top;\n",
       "    }\n",
       "\n",
       "    .dataframe thead th {\n",
       "        text-align: right;\n",
       "    }\n",
       "</style>\n",
       "<table border=\"1\" class=\"dataframe\">\n",
       "  <thead>\n",
       "    <tr style=\"text-align: right;\">\n",
       "      <th></th>\n",
       "      <th>platform</th>\n",
       "      <th>year_min</th>\n",
       "      <th>year_max</th>\n",
       "      <th>year</th>\n",
       "    </tr>\n",
       "  </thead>\n",
       "  <tbody>\n",
       "    <tr>\n",
       "      <td>0</td>\n",
       "      <td>2600</td>\n",
       "      <td>1980</td>\n",
       "      <td>1989</td>\n",
       "      <td>9</td>\n",
       "    </tr>\n",
       "    <tr>\n",
       "      <td>1</td>\n",
       "      <td>3DO</td>\n",
       "      <td>1994</td>\n",
       "      <td>1995</td>\n",
       "      <td>1</td>\n",
       "    </tr>\n",
       "    <tr>\n",
       "      <td>2</td>\n",
       "      <td>3DS</td>\n",
       "      <td>2011</td>\n",
       "      <td>2012</td>\n",
       "      <td>1</td>\n",
       "    </tr>\n",
       "    <tr>\n",
       "      <td>3</td>\n",
       "      <td>DC</td>\n",
       "      <td>1998</td>\n",
       "      <td>2008</td>\n",
       "      <td>10</td>\n",
       "    </tr>\n",
       "    <tr>\n",
       "      <td>4</td>\n",
       "      <td>DS</td>\n",
       "      <td>1985</td>\n",
       "      <td>2012</td>\n",
       "      <td>27</td>\n",
       "    </tr>\n",
       "    <tr>\n",
       "      <td>5</td>\n",
       "      <td>GB</td>\n",
       "      <td>1988</td>\n",
       "      <td>2001</td>\n",
       "      <td>13</td>\n",
       "    </tr>\n",
       "    <tr>\n",
       "      <td>6</td>\n",
       "      <td>GBA</td>\n",
       "      <td>2000</td>\n",
       "      <td>2007</td>\n",
       "      <td>7</td>\n",
       "    </tr>\n",
       "    <tr>\n",
       "      <td>7</td>\n",
       "      <td>GC</td>\n",
       "      <td>2001</td>\n",
       "      <td>2007</td>\n",
       "      <td>6</td>\n",
       "    </tr>\n",
       "    <tr>\n",
       "      <td>8</td>\n",
       "      <td>GEN</td>\n",
       "      <td>1990</td>\n",
       "      <td>1994</td>\n",
       "      <td>4</td>\n",
       "    </tr>\n",
       "    <tr>\n",
       "      <td>9</td>\n",
       "      <td>GG</td>\n",
       "      <td>1992</td>\n",
       "      <td>1992</td>\n",
       "      <td>0</td>\n",
       "    </tr>\n",
       "    <tr>\n",
       "      <td>10</td>\n",
       "      <td>N64</td>\n",
       "      <td>1996</td>\n",
       "      <td>2002</td>\n",
       "      <td>6</td>\n",
       "    </tr>\n",
       "    <tr>\n",
       "      <td>11</td>\n",
       "      <td>NES</td>\n",
       "      <td>1983</td>\n",
       "      <td>1994</td>\n",
       "      <td>11</td>\n",
       "    </tr>\n",
       "    <tr>\n",
       "      <td>12</td>\n",
       "      <td>NG</td>\n",
       "      <td>1993</td>\n",
       "      <td>1996</td>\n",
       "      <td>3</td>\n",
       "    </tr>\n",
       "    <tr>\n",
       "      <td>13</td>\n",
       "      <td>PC</td>\n",
       "      <td>1985</td>\n",
       "      <td>2012</td>\n",
       "      <td>27</td>\n",
       "    </tr>\n",
       "    <tr>\n",
       "      <td>14</td>\n",
       "      <td>PCFX</td>\n",
       "      <td>1996</td>\n",
       "      <td>1996</td>\n",
       "      <td>0</td>\n",
       "    </tr>\n",
       "    <tr>\n",
       "      <td>15</td>\n",
       "      <td>PS</td>\n",
       "      <td>1994</td>\n",
       "      <td>2003</td>\n",
       "      <td>9</td>\n",
       "    </tr>\n",
       "    <tr>\n",
       "      <td>16</td>\n",
       "      <td>PS2</td>\n",
       "      <td>2000</td>\n",
       "      <td>2011</td>\n",
       "      <td>11</td>\n",
       "    </tr>\n",
       "    <tr>\n",
       "      <td>17</td>\n",
       "      <td>PS3</td>\n",
       "      <td>2006</td>\n",
       "      <td>2012</td>\n",
       "      <td>6</td>\n",
       "    </tr>\n",
       "    <tr>\n",
       "      <td>18</td>\n",
       "      <td>PSP</td>\n",
       "      <td>2004</td>\n",
       "      <td>2012</td>\n",
       "      <td>8</td>\n",
       "    </tr>\n",
       "    <tr>\n",
       "      <td>19</td>\n",
       "      <td>PSV</td>\n",
       "      <td>2011</td>\n",
       "      <td>2012</td>\n",
       "      <td>1</td>\n",
       "    </tr>\n",
       "    <tr>\n",
       "      <td>20</td>\n",
       "      <td>SAT</td>\n",
       "      <td>1994</td>\n",
       "      <td>1999</td>\n",
       "      <td>5</td>\n",
       "    </tr>\n",
       "    <tr>\n",
       "      <td>21</td>\n",
       "      <td>SCD</td>\n",
       "      <td>1993</td>\n",
       "      <td>1994</td>\n",
       "      <td>1</td>\n",
       "    </tr>\n",
       "    <tr>\n",
       "      <td>22</td>\n",
       "      <td>SNES</td>\n",
       "      <td>1990</td>\n",
       "      <td>1999</td>\n",
       "      <td>9</td>\n",
       "    </tr>\n",
       "    <tr>\n",
       "      <td>23</td>\n",
       "      <td>TG16</td>\n",
       "      <td>1995</td>\n",
       "      <td>1995</td>\n",
       "      <td>0</td>\n",
       "    </tr>\n",
       "    <tr>\n",
       "      <td>24</td>\n",
       "      <td>WS</td>\n",
       "      <td>1999</td>\n",
       "      <td>2001</td>\n",
       "      <td>2</td>\n",
       "    </tr>\n",
       "    <tr>\n",
       "      <td>25</td>\n",
       "      <td>Wii</td>\n",
       "      <td>2006</td>\n",
       "      <td>2012</td>\n",
       "      <td>6</td>\n",
       "    </tr>\n",
       "    <tr>\n",
       "      <td>26</td>\n",
       "      <td>WiiU</td>\n",
       "      <td>2012</td>\n",
       "      <td>2012</td>\n",
       "      <td>0</td>\n",
       "    </tr>\n",
       "    <tr>\n",
       "      <td>27</td>\n",
       "      <td>X360</td>\n",
       "      <td>2005</td>\n",
       "      <td>2012</td>\n",
       "      <td>7</td>\n",
       "    </tr>\n",
       "    <tr>\n",
       "      <td>28</td>\n",
       "      <td>XB</td>\n",
       "      <td>2000</td>\n",
       "      <td>2008</td>\n",
       "      <td>8</td>\n",
       "    </tr>\n",
       "  </tbody>\n",
       "</table>\n",
       "</div>"
      ],
      "text/plain": [
       "   platform  year_min  year_max  year\n",
       "0      2600      1980      1989     9\n",
       "1       3DO      1994      1995     1\n",
       "2       3DS      2011      2012     1\n",
       "3        DC      1998      2008    10\n",
       "4        DS      1985      2012    27\n",
       "5        GB      1988      2001    13\n",
       "6       GBA      2000      2007     7\n",
       "7        GC      2001      2007     6\n",
       "8       GEN      1990      1994     4\n",
       "9        GG      1992      1992     0\n",
       "10      N64      1996      2002     6\n",
       "11      NES      1983      1994    11\n",
       "12       NG      1993      1996     3\n",
       "13       PC      1985      2012    27\n",
       "14     PCFX      1996      1996     0\n",
       "15       PS      1994      2003     9\n",
       "16      PS2      2000      2011    11\n",
       "17      PS3      2006      2012     6\n",
       "18      PSP      2004      2012     8\n",
       "19      PSV      2011      2012     1\n",
       "20      SAT      1994      1999     5\n",
       "21      SCD      1993      1994     1\n",
       "22     SNES      1990      1999     9\n",
       "23     TG16      1995      1995     0\n",
       "24       WS      1999      2001     2\n",
       "25      Wii      2006      2012     6\n",
       "26     WiiU      2012      2012     0\n",
       "27     X360      2005      2012     7\n",
       "28       XB      2000      2008     8"
      ]
     },
     "execution_count": 23,
     "metadata": {},
     "output_type": "execute_result"
    }
   ],
   "source": [
    "life_cycle = (df\n",
    "              .query('year_of_release <= 2012')\n",
    "              .groupby('platform').agg({'year_of_release': ['min', 'max']}).reset_index()\n",
    "             )\n",
    "life_cycle.columns = ['platform', 'year_min', 'year_max']\n",
    "life_cycle['year'] = life_cycle['year_max'] - life_cycle['year_min']\n",
    "life_cycle"
   ]
  },
  {
   "cell_type": "code",
   "execution_count": 24,
   "metadata": {},
   "outputs": [
    {
     "data": {
      "text/plain": [
       "6.0"
      ]
     },
     "execution_count": 24,
     "metadata": {},
     "output_type": "execute_result"
    }
   ],
   "source": [
    "life_cycle['year'].median()"
   ]
  },
  {
   "cell_type": "code",
   "execution_count": 25,
   "metadata": {},
   "outputs": [
    {
     "data": {
      "text/plain": [
       "6.827586206896552"
      ]
     },
     "execution_count": 25,
     "metadata": {},
     "output_type": "execute_result"
    }
   ],
   "source": [
    "life_cycle['year'].mean()"
   ]
  },
  {
   "cell_type": "markdown",
   "metadata": {},
   "source": [
    "Мы определили семь самых популярных платформ. Их продажи приходятся на временной отрезок с 1994 года по 2016 год. Самой продаваемой оказалась платформа PS2, пик ее продаж приходится на 2004 год. Немного уступает ей по продажам платформа Wii. Пик ее продаж приходится на 2009 год, стоит отметить, что в это время продажи PS2 серьезно сократились. В период с 2006 по 2010 годы, выпускались шесть из семи топовых платформ. Самые ранние платформы - PS и PS2. С 2014 года популярность набирает платформа PS4. В 2012-2013 годах популярными были PS3 и Х360. Судя по графику, можно сказать, что срок жизни платформы составляет примерно 10-11 лет, однако, например, жизнь платформы DS больше 10 лет. Наши расчеты показали, что средний срок жизни платформы 6-7 лет."
   ]
  },
  {
   "cell_type": "markdown",
   "metadata": {},
   "source": [
    "Для исследования нам предстоит определить актуальный временной период, данные за который, помогут сделать прогноз на 2017 год. Мы помним, что данные за 2016 год, могут быть не полными, этот год включать в исследование не будем.\n",
    "\n",
    "Актуальным можно считать временной отрезок с 2013 по 2015 годы. В этот период появилась новая платформа, которая стала набирать обороты, есть возможность проследить ее жизненный цикл. Кроме того, мы можем проследить за другими, еще не потерявшими интерес у пользователей, платформами. Данные, которые не входят в указанный период, учитывать не будем."
   ]
  },
  {
   "cell_type": "code",
   "execution_count": 26,
   "metadata": {},
   "outputs": [
    {
     "data": {
      "text/html": [
       "<div>\n",
       "<style scoped>\n",
       "    .dataframe tbody tr th:only-of-type {\n",
       "        vertical-align: middle;\n",
       "    }\n",
       "\n",
       "    .dataframe tbody tr th {\n",
       "        vertical-align: top;\n",
       "    }\n",
       "\n",
       "    .dataframe thead th {\n",
       "        text-align: right;\n",
       "    }\n",
       "</style>\n",
       "<table border=\"1\" class=\"dataframe\">\n",
       "  <thead>\n",
       "    <tr style=\"text-align: right;\">\n",
       "      <th></th>\n",
       "      <th>name</th>\n",
       "      <th>platform</th>\n",
       "      <th>year_of_release</th>\n",
       "      <th>genre</th>\n",
       "      <th>na_sales</th>\n",
       "      <th>eu_sales</th>\n",
       "      <th>jp_sales</th>\n",
       "      <th>other_sales</th>\n",
       "      <th>critic_score</th>\n",
       "      <th>user_score</th>\n",
       "      <th>rating</th>\n",
       "      <th>sales</th>\n",
       "    </tr>\n",
       "  </thead>\n",
       "  <tbody>\n",
       "    <tr>\n",
       "      <td>16</td>\n",
       "      <td>Grand Theft Auto V</td>\n",
       "      <td>PS3</td>\n",
       "      <td>2013</td>\n",
       "      <td>Action</td>\n",
       "      <td>7.02</td>\n",
       "      <td>9.09</td>\n",
       "      <td>0.98</td>\n",
       "      <td>3.96</td>\n",
       "      <td>97</td>\n",
       "      <td>8.2</td>\n",
       "      <td>M</td>\n",
       "      <td>21.05</td>\n",
       "    </tr>\n",
       "    <tr>\n",
       "      <td>23</td>\n",
       "      <td>Grand Theft Auto V</td>\n",
       "      <td>X360</td>\n",
       "      <td>2013</td>\n",
       "      <td>Action</td>\n",
       "      <td>9.66</td>\n",
       "      <td>5.14</td>\n",
       "      <td>0.06</td>\n",
       "      <td>1.41</td>\n",
       "      <td>97</td>\n",
       "      <td>8.1</td>\n",
       "      <td>M</td>\n",
       "      <td>16.27</td>\n",
       "    </tr>\n",
       "    <tr>\n",
       "      <td>31</td>\n",
       "      <td>Call of Duty: Black Ops 3</td>\n",
       "      <td>PS4</td>\n",
       "      <td>2015</td>\n",
       "      <td>Shooter</td>\n",
       "      <td>6.03</td>\n",
       "      <td>5.86</td>\n",
       "      <td>0.36</td>\n",
       "      <td>2.38</td>\n",
       "      <td>-1</td>\n",
       "      <td>-1.0</td>\n",
       "      <td>undefined</td>\n",
       "      <td>14.63</td>\n",
       "    </tr>\n",
       "    <tr>\n",
       "      <td>33</td>\n",
       "      <td>Pokemon X/Pokemon Y</td>\n",
       "      <td>3DS</td>\n",
       "      <td>2013</td>\n",
       "      <td>Role-Playing</td>\n",
       "      <td>5.28</td>\n",
       "      <td>4.19</td>\n",
       "      <td>4.35</td>\n",
       "      <td>0.78</td>\n",
       "      <td>-1</td>\n",
       "      <td>-1.0</td>\n",
       "      <td>undefined</td>\n",
       "      <td>14.60</td>\n",
       "    </tr>\n",
       "    <tr>\n",
       "      <td>42</td>\n",
       "      <td>Grand Theft Auto V</td>\n",
       "      <td>PS4</td>\n",
       "      <td>2014</td>\n",
       "      <td>Action</td>\n",
       "      <td>3.96</td>\n",
       "      <td>6.31</td>\n",
       "      <td>0.38</td>\n",
       "      <td>1.97</td>\n",
       "      <td>97</td>\n",
       "      <td>8.3</td>\n",
       "      <td>M</td>\n",
       "      <td>12.62</td>\n",
       "    </tr>\n",
       "    <tr>\n",
       "      <td>...</td>\n",
       "      <td>...</td>\n",
       "      <td>...</td>\n",
       "      <td>...</td>\n",
       "      <td>...</td>\n",
       "      <td>...</td>\n",
       "      <td>...</td>\n",
       "      <td>...</td>\n",
       "      <td>...</td>\n",
       "      <td>...</td>\n",
       "      <td>...</td>\n",
       "      <td>...</td>\n",
       "      <td>...</td>\n",
       "    </tr>\n",
       "    <tr>\n",
       "      <td>16668</td>\n",
       "      <td>Fujiko F. Fujio Characters: Great Assembly! Sl...</td>\n",
       "      <td>3DS</td>\n",
       "      <td>2014</td>\n",
       "      <td>Action</td>\n",
       "      <td>0.00</td>\n",
       "      <td>0.00</td>\n",
       "      <td>0.01</td>\n",
       "      <td>0.00</td>\n",
       "      <td>-1</td>\n",
       "      <td>-1.0</td>\n",
       "      <td>undefined</td>\n",
       "      <td>0.01</td>\n",
       "    </tr>\n",
       "    <tr>\n",
       "      <td>16674</td>\n",
       "      <td>Tsukigime Ranko's Longest Day</td>\n",
       "      <td>PS3</td>\n",
       "      <td>2014</td>\n",
       "      <td>Action</td>\n",
       "      <td>0.00</td>\n",
       "      <td>0.01</td>\n",
       "      <td>0.00</td>\n",
       "      <td>0.00</td>\n",
       "      <td>-1</td>\n",
       "      <td>-1.0</td>\n",
       "      <td>undefined</td>\n",
       "      <td>0.01</td>\n",
       "    </tr>\n",
       "    <tr>\n",
       "      <td>16682</td>\n",
       "      <td>Grisaia no Kajitsu: La Fruit de la Grisaia</td>\n",
       "      <td>PSP</td>\n",
       "      <td>2013</td>\n",
       "      <td>Adventure</td>\n",
       "      <td>0.00</td>\n",
       "      <td>0.00</td>\n",
       "      <td>0.01</td>\n",
       "      <td>0.00</td>\n",
       "      <td>-1</td>\n",
       "      <td>-1.0</td>\n",
       "      <td>undefined</td>\n",
       "      <td>0.01</td>\n",
       "    </tr>\n",
       "    <tr>\n",
       "      <td>16692</td>\n",
       "      <td>Metal Gear Solid V: Ground Zeroes</td>\n",
       "      <td>PC</td>\n",
       "      <td>2014</td>\n",
       "      <td>Action</td>\n",
       "      <td>0.00</td>\n",
       "      <td>0.01</td>\n",
       "      <td>0.00</td>\n",
       "      <td>0.00</td>\n",
       "      <td>80</td>\n",
       "      <td>7.6</td>\n",
       "      <td>M</td>\n",
       "      <td>0.01</td>\n",
       "    </tr>\n",
       "    <tr>\n",
       "      <td>16707</td>\n",
       "      <td>Aiyoku no Eustia</td>\n",
       "      <td>PSV</td>\n",
       "      <td>2014</td>\n",
       "      <td>Misc</td>\n",
       "      <td>0.00</td>\n",
       "      <td>0.00</td>\n",
       "      <td>0.01</td>\n",
       "      <td>0.00</td>\n",
       "      <td>-1</td>\n",
       "      <td>-1.0</td>\n",
       "      <td>undefined</td>\n",
       "      <td>0.01</td>\n",
       "    </tr>\n",
       "  </tbody>\n",
       "</table>\n",
       "<p>1731 rows × 12 columns</p>\n",
       "</div>"
      ],
      "text/plain": [
       "                                                    name platform  \\\n",
       "16                                    Grand Theft Auto V      PS3   \n",
       "23                                    Grand Theft Auto V     X360   \n",
       "31                             Call of Duty: Black Ops 3      PS4   \n",
       "33                                   Pokemon X/Pokemon Y      3DS   \n",
       "42                                    Grand Theft Auto V      PS4   \n",
       "...                                                  ...      ...   \n",
       "16668  Fujiko F. Fujio Characters: Great Assembly! Sl...      3DS   \n",
       "16674                      Tsukigime Ranko's Longest Day      PS3   \n",
       "16682         Grisaia no Kajitsu: La Fruit de la Grisaia      PSP   \n",
       "16692                  Metal Gear Solid V: Ground Zeroes       PC   \n",
       "16707                                   Aiyoku no Eustia      PSV   \n",
       "\n",
       "       year_of_release         genre  na_sales  eu_sales  jp_sales  \\\n",
       "16                2013        Action      7.02      9.09      0.98   \n",
       "23                2013        Action      9.66      5.14      0.06   \n",
       "31                2015       Shooter      6.03      5.86      0.36   \n",
       "33                2013  Role-Playing      5.28      4.19      4.35   \n",
       "42                2014        Action      3.96      6.31      0.38   \n",
       "...                ...           ...       ...       ...       ...   \n",
       "16668             2014        Action      0.00      0.00      0.01   \n",
       "16674             2014        Action      0.00      0.01      0.00   \n",
       "16682             2013     Adventure      0.00      0.00      0.01   \n",
       "16692             2014        Action      0.00      0.01      0.00   \n",
       "16707             2014          Misc      0.00      0.00      0.01   \n",
       "\n",
       "       other_sales  critic_score  user_score     rating  sales  \n",
       "16            3.96            97         8.2          M  21.05  \n",
       "23            1.41            97         8.1          M  16.27  \n",
       "31            2.38            -1        -1.0  undefined  14.63  \n",
       "33            0.78            -1        -1.0  undefined  14.60  \n",
       "42            1.97            97         8.3          M  12.62  \n",
       "...            ...           ...         ...        ...    ...  \n",
       "16668         0.00            -1        -1.0  undefined   0.01  \n",
       "16674         0.00            -1        -1.0  undefined   0.01  \n",
       "16682         0.00            -1        -1.0  undefined   0.01  \n",
       "16692         0.00            80         7.6          M   0.01  \n",
       "16707         0.00            -1        -1.0  undefined   0.01  \n",
       "\n",
       "[1731 rows x 12 columns]"
      ]
     },
     "execution_count": 26,
     "metadata": {},
     "output_type": "execute_result"
    }
   ],
   "source": [
    "df_year = df.query(\"2015 >= year_of_release >= 2013\")\n",
    "df_year"
   ]
  },
  {
   "cell_type": "markdown",
   "metadata": {},
   "source": [
    "Определим, какие платформы лидируют по продажам. Выберем несколько потенциально прибыльных платформ."
   ]
  },
  {
   "cell_type": "code",
   "execution_count": 27,
   "metadata": {},
   "outputs": [
    {
     "data": {
      "text/html": [
       "<div>\n",
       "<style scoped>\n",
       "    .dataframe tbody tr th:only-of-type {\n",
       "        vertical-align: middle;\n",
       "    }\n",
       "\n",
       "    .dataframe tbody tr th {\n",
       "        vertical-align: top;\n",
       "    }\n",
       "\n",
       "    .dataframe thead th {\n",
       "        text-align: right;\n",
       "    }\n",
       "</style>\n",
       "<table border=\"1\" class=\"dataframe\">\n",
       "  <thead>\n",
       "    <tr style=\"text-align: right;\">\n",
       "      <th></th>\n",
       "      <th>sales</th>\n",
       "    </tr>\n",
       "    <tr>\n",
       "      <th>platform</th>\n",
       "      <th></th>\n",
       "    </tr>\n",
       "  </thead>\n",
       "  <tbody>\n",
       "    <tr>\n",
       "      <td>PS4</td>\n",
       "      <td>244.89</td>\n",
       "    </tr>\n",
       "    <tr>\n",
       "      <td>PS3</td>\n",
       "      <td>177.83</td>\n",
       "    </tr>\n",
       "    <tr>\n",
       "      <td>X360</td>\n",
       "      <td>135.28</td>\n",
       "    </tr>\n",
       "    <tr>\n",
       "      <td>XOne</td>\n",
       "      <td>133.17</td>\n",
       "    </tr>\n",
       "    <tr>\n",
       "      <td>3DS</td>\n",
       "      <td>128.11</td>\n",
       "    </tr>\n",
       "    <tr>\n",
       "      <td>WiiU</td>\n",
       "      <td>60.03</td>\n",
       "    </tr>\n",
       "    <tr>\n",
       "      <td>PC</td>\n",
       "      <td>34.18</td>\n",
       "    </tr>\n",
       "    <tr>\n",
       "      <td>PSV</td>\n",
       "      <td>28.74</td>\n",
       "    </tr>\n",
       "    <tr>\n",
       "      <td>Wii</td>\n",
       "      <td>13.48</td>\n",
       "    </tr>\n",
       "    <tr>\n",
       "      <td>PSP</td>\n",
       "      <td>3.50</td>\n",
       "    </tr>\n",
       "    <tr>\n",
       "      <td>DS</td>\n",
       "      <td>1.54</td>\n",
       "    </tr>\n",
       "  </tbody>\n",
       "</table>\n",
       "</div>"
      ],
      "text/plain": [
       "           sales\n",
       "platform        \n",
       "PS4       244.89\n",
       "PS3       177.83\n",
       "X360      135.28\n",
       "XOne      133.17\n",
       "3DS       128.11\n",
       "WiiU       60.03\n",
       "PC         34.18\n",
       "PSV        28.74\n",
       "Wii        13.48\n",
       "PSP         3.50\n",
       "DS          1.54"
      ]
     },
     "execution_count": 27,
     "metadata": {},
     "output_type": "execute_result"
    }
   ],
   "source": [
    "df_platform = (df_year\n",
    "               .groupby('platform').agg({'sales':'sum'})\n",
    "               .sort_values(by =('sales'), ascending = False)\n",
    "              )\n",
    "df_platform"
   ]
  },
  {
   "cell_type": "code",
   "execution_count": 28,
   "metadata": {},
   "outputs": [
    {
     "data": {
      "image/png": "[encoded data removed]",
      "text/plain": [
       "<Figure size 936x288 with 1 Axes>"
      ]
     },
     "metadata": {
      "needs_background": "light"
     },
     "output_type": "display_data"
    }
   ],
   "source": [
    "leaders_platform = (df_year\n",
    "                    .query('platform in @df_platform.index')\n",
    "                    .pivot_table(index= 'year_of_release', columns='platform', values='sales', aggfunc= 'sum')\n",
    "                    .plot(kind = 'bar', ec='black', figsize=(13,4))\n",
    "                   )\n",
    "plt.title('Продажи платформ в 2013-2015 гг.', fontsize=22)\n",
    "plt.xlabel('Год')\n",
    "plt.ylabel('Суммарные продажи')\n",
    "plt.legend(loc='center', bbox_to_anchor=(0.5, -0.5), shadow=False, ncol=2)\n",
    "plt.grid()\n",
    "plt.show()"
   ]
  },
  {
   "cell_type": "markdown",
   "metadata": {},
   "source": [
    "В указанный отрезок времени на рынке были представлены 11 платформ. По продажам, два года из трех, лидировала PS4. В 2013 лидером по продажам была PS3, тогда PS4 только появилась на рынке. Самые низкие продажи у PSP и DS.\n",
    "Судя по графику, с 2013 по 2015 годы росли продажи PS4 и XOne, продажи остальных платформ сокращались.\n",
    "\n",
    "Потенциально прибыльные платформы: PS4, XOne - продажи по ним растут; 3DS, PS3 и WiiU - продажи по ним или сократились, однако по сравнению с другими платформами они занимают свою долю на рынке."
   ]
  },
  {
   "cell_type": "code",
   "execution_count": 29,
   "metadata": {},
   "outputs": [],
   "source": [
    "df_actual = df_year.query('platform in (\"PS4\", \"XOne\", \"3DS\", \"PS3\", \"WiiU\")')"
   ]
  },
  {
   "cell_type": "code",
   "execution_count": 30,
   "metadata": {},
   "outputs": [
    {
     "data": {
      "text/html": [
       "<div>\n",
       "<style scoped>\n",
       "    .dataframe tbody tr th:only-of-type {\n",
       "        vertical-align: middle;\n",
       "    }\n",
       "\n",
       "    .dataframe tbody tr th {\n",
       "        vertical-align: top;\n",
       "    }\n",
       "\n",
       "    .dataframe thead th {\n",
       "        text-align: right;\n",
       "    }\n",
       "</style>\n",
       "<table border=\"1\" class=\"dataframe\">\n",
       "  <thead>\n",
       "    <tr style=\"text-align: right;\">\n",
       "      <th></th>\n",
       "      <th>name</th>\n",
       "      <th>platform</th>\n",
       "      <th>year_of_release</th>\n",
       "      <th>genre</th>\n",
       "      <th>na_sales</th>\n",
       "      <th>eu_sales</th>\n",
       "      <th>jp_sales</th>\n",
       "      <th>other_sales</th>\n",
       "      <th>critic_score</th>\n",
       "      <th>user_score</th>\n",
       "      <th>rating</th>\n",
       "      <th>sales</th>\n",
       "    </tr>\n",
       "  </thead>\n",
       "  <tbody>\n",
       "    <tr>\n",
       "      <td>16</td>\n",
       "      <td>Grand Theft Auto V</td>\n",
       "      <td>PS3</td>\n",
       "      <td>2013</td>\n",
       "      <td>Action</td>\n",
       "      <td>7.02</td>\n",
       "      <td>9.09</td>\n",
       "      <td>0.98</td>\n",
       "      <td>3.96</td>\n",
       "      <td>97</td>\n",
       "      <td>8.2</td>\n",
       "      <td>M</td>\n",
       "      <td>21.05</td>\n",
       "    </tr>\n",
       "    <tr>\n",
       "      <td>31</td>\n",
       "      <td>Call of Duty: Black Ops 3</td>\n",
       "      <td>PS4</td>\n",
       "      <td>2015</td>\n",
       "      <td>Shooter</td>\n",
       "      <td>6.03</td>\n",
       "      <td>5.86</td>\n",
       "      <td>0.36</td>\n",
       "      <td>2.38</td>\n",
       "      <td>-1</td>\n",
       "      <td>-1.0</td>\n",
       "      <td>undefined</td>\n",
       "      <td>14.63</td>\n",
       "    </tr>\n",
       "    <tr>\n",
       "      <td>33</td>\n",
       "      <td>Pokemon X/Pokemon Y</td>\n",
       "      <td>3DS</td>\n",
       "      <td>2013</td>\n",
       "      <td>Role-Playing</td>\n",
       "      <td>5.28</td>\n",
       "      <td>4.19</td>\n",
       "      <td>4.35</td>\n",
       "      <td>0.78</td>\n",
       "      <td>-1</td>\n",
       "      <td>-1.0</td>\n",
       "      <td>undefined</td>\n",
       "      <td>14.60</td>\n",
       "    </tr>\n",
       "    <tr>\n",
       "      <td>42</td>\n",
       "      <td>Grand Theft Auto V</td>\n",
       "      <td>PS4</td>\n",
       "      <td>2014</td>\n",
       "      <td>Action</td>\n",
       "      <td>3.96</td>\n",
       "      <td>6.31</td>\n",
       "      <td>0.38</td>\n",
       "      <td>1.97</td>\n",
       "      <td>97</td>\n",
       "      <td>8.3</td>\n",
       "      <td>M</td>\n",
       "      <td>12.62</td>\n",
       "    </tr>\n",
       "    <tr>\n",
       "      <td>47</td>\n",
       "      <td>Pokemon Omega Ruby/Pokemon Alpha Sapphire</td>\n",
       "      <td>3DS</td>\n",
       "      <td>2014</td>\n",
       "      <td>Role-Playing</td>\n",
       "      <td>4.35</td>\n",
       "      <td>3.49</td>\n",
       "      <td>3.10</td>\n",
       "      <td>0.74</td>\n",
       "      <td>-1</td>\n",
       "      <td>-1.0</td>\n",
       "      <td>undefined</td>\n",
       "      <td>11.68</td>\n",
       "    </tr>\n",
       "    <tr>\n",
       "      <td>...</td>\n",
       "      <td>...</td>\n",
       "      <td>...</td>\n",
       "      <td>...</td>\n",
       "      <td>...</td>\n",
       "      <td>...</td>\n",
       "      <td>...</td>\n",
       "      <td>...</td>\n",
       "      <td>...</td>\n",
       "      <td>...</td>\n",
       "      <td>...</td>\n",
       "      <td>...</td>\n",
       "      <td>...</td>\n",
       "    </tr>\n",
       "    <tr>\n",
       "      <td>16610</td>\n",
       "      <td>Kiniro no Corda 3</td>\n",
       "      <td>3DS</td>\n",
       "      <td>2015</td>\n",
       "      <td>Adventure</td>\n",
       "      <td>0.00</td>\n",
       "      <td>0.00</td>\n",
       "      <td>0.01</td>\n",
       "      <td>0.00</td>\n",
       "      <td>-1</td>\n",
       "      <td>-1.0</td>\n",
       "      <td>undefined</td>\n",
       "      <td>0.01</td>\n",
       "    </tr>\n",
       "    <tr>\n",
       "      <td>16638</td>\n",
       "      <td>Tour de France 2014</td>\n",
       "      <td>PS3</td>\n",
       "      <td>2014</td>\n",
       "      <td>Sports</td>\n",
       "      <td>0.00</td>\n",
       "      <td>0.01</td>\n",
       "      <td>0.00</td>\n",
       "      <td>0.00</td>\n",
       "      <td>-1</td>\n",
       "      <td>-1.0</td>\n",
       "      <td>E</td>\n",
       "      <td>0.01</td>\n",
       "    </tr>\n",
       "    <tr>\n",
       "      <td>16648</td>\n",
       "      <td>Mushi Bugyou</td>\n",
       "      <td>3DS</td>\n",
       "      <td>2013</td>\n",
       "      <td>Action</td>\n",
       "      <td>0.00</td>\n",
       "      <td>0.00</td>\n",
       "      <td>0.01</td>\n",
       "      <td>0.00</td>\n",
       "      <td>-1</td>\n",
       "      <td>-1.0</td>\n",
       "      <td>undefined</td>\n",
       "      <td>0.01</td>\n",
       "    </tr>\n",
       "    <tr>\n",
       "      <td>16668</td>\n",
       "      <td>Fujiko F. Fujio Characters: Great Assembly! Sl...</td>\n",
       "      <td>3DS</td>\n",
       "      <td>2014</td>\n",
       "      <td>Action</td>\n",
       "      <td>0.00</td>\n",
       "      <td>0.00</td>\n",
       "      <td>0.01</td>\n",
       "      <td>0.00</td>\n",
       "      <td>-1</td>\n",
       "      <td>-1.0</td>\n",
       "      <td>undefined</td>\n",
       "      <td>0.01</td>\n",
       "    </tr>\n",
       "    <tr>\n",
       "      <td>16674</td>\n",
       "      <td>Tsukigime Ranko's Longest Day</td>\n",
       "      <td>PS3</td>\n",
       "      <td>2014</td>\n",
       "      <td>Action</td>\n",
       "      <td>0.00</td>\n",
       "      <td>0.01</td>\n",
       "      <td>0.00</td>\n",
       "      <td>0.00</td>\n",
       "      <td>-1</td>\n",
       "      <td>-1.0</td>\n",
       "      <td>undefined</td>\n",
       "      <td>0.01</td>\n",
       "    </tr>\n",
       "  </tbody>\n",
       "</table>\n",
       "<p>1053 rows × 12 columns</p>\n",
       "</div>"
      ],
      "text/plain": [
       "                                                    name platform  \\\n",
       "16                                    Grand Theft Auto V      PS3   \n",
       "31                             Call of Duty: Black Ops 3      PS4   \n",
       "33                                   Pokemon X/Pokemon Y      3DS   \n",
       "42                                    Grand Theft Auto V      PS4   \n",
       "47             Pokemon Omega Ruby/Pokemon Alpha Sapphire      3DS   \n",
       "...                                                  ...      ...   \n",
       "16610                                  Kiniro no Corda 3      3DS   \n",
       "16638                                Tour de France 2014      PS3   \n",
       "16648                                       Mushi Bugyou      3DS   \n",
       "16668  Fujiko F. Fujio Characters: Great Assembly! Sl...      3DS   \n",
       "16674                      Tsukigime Ranko's Longest Day      PS3   \n",
       "\n",
       "       year_of_release         genre  na_sales  eu_sales  jp_sales  \\\n",
       "16                2013        Action      7.02      9.09      0.98   \n",
       "31                2015       Shooter      6.03      5.86      0.36   \n",
       "33                2013  Role-Playing      5.28      4.19      4.35   \n",
       "42                2014        Action      3.96      6.31      0.38   \n",
       "47                2014  Role-Playing      4.35      3.49      3.10   \n",
       "...                ...           ...       ...       ...       ...   \n",
       "16610             2015     Adventure      0.00      0.00      0.01   \n",
       "16638             2014        Sports      0.00      0.01      0.00   \n",
       "16648             2013        Action      0.00      0.00      0.01   \n",
       "16668             2014        Action      0.00      0.00      0.01   \n",
       "16674             2014        Action      0.00      0.01      0.00   \n",
       "\n",
       "       other_sales  critic_score  user_score     rating  sales  \n",
       "16            3.96            97         8.2          M  21.05  \n",
       "31            2.38            -1        -1.0  undefined  14.63  \n",
       "33            0.78            -1        -1.0  undefined  14.60  \n",
       "42            1.97            97         8.3          M  12.62  \n",
       "47            0.74            -1        -1.0  undefined  11.68  \n",
       "...            ...           ...         ...        ...    ...  \n",
       "16610         0.00            -1        -1.0  undefined   0.01  \n",
       "16638         0.00            -1        -1.0          E   0.01  \n",
       "16648         0.00            -1        -1.0  undefined   0.01  \n",
       "16668         0.00            -1        -1.0  undefined   0.01  \n",
       "16674         0.00            -1        -1.0  undefined   0.01  \n",
       "\n",
       "[1053 rows x 12 columns]"
      ]
     },
     "execution_count": 30,
     "metadata": {},
     "output_type": "execute_result"
    }
   ],
   "source": [
    "df_actual"
   ]
  },
  {
   "cell_type": "markdown",
   "metadata": {},
   "source": [
    "Построим боксплот по глобальным продажам игр в разбивке по платформам. Опишем результат."
   ]
  },
  {
   "cell_type": "code",
   "execution_count": 31,
   "metadata": {},
   "outputs": [
    {
     "data": {
      "image/png": "[encoded data removed]",
      "text/plain": [
       "<Figure size 936x288 with 1 Axes>"
      ]
     },
     "metadata": {
      "needs_background": "light"
     },
     "output_type": "display_data"
    }
   ],
   "source": [
    "plt.figure(figsize=(13,4))\n",
    "sns.boxplot(data=df_actual, x = \"platform\", y=\"sales\")\n",
    "plt.ylim(-0.1, 2.6)\n",
    "plt.title('Глобальные продажи игр в разбивке по платформам', fontsize=22)\n",
    "plt.xlabel('Платформа')\n",
    "plt.ylabel('Суммарные продажи')\n",
    "plt.grid()\n",
    "plt.show()"
   ]
  },
  {
   "cell_type": "markdown",
   "metadata": {},
   "source": [
    "Мы видим, что у всех \"ящиков с усами\" нижний «ус» упирается в 0, минимальное значение. Верхний — это 1.5 межквартильного размаха, добавленного к третьему квартилю - у боксплотов заканчивается на разных значениях от 0.6 до 2.5. Все, что лежит за верхним \"усом\", считается выбросом.\n",
    "\n",
    "На графике значения суммарных продаж отложены по вертикальной оси. Медиана не стремится к длинному хвосту высоких значений, расстояние между первым квартилем и медианой заметно меньше, чем расстояние между медианой и третьим квартилем. Датасет скошен вправо, то есть в сторону положительного направления оси с учетом ориентации — вверх. Это говорит нам, что большая часть продаж больше медианы.\n",
    "\n",
    "Если рассмотреть боксплоты по-отдельности, то можно отметить, что медианные продажи меньше, у платформы 3DS, больше - у XOne. Однако в целом больше продаж приходится на PS4, где значительная часть продаж выше медианных значений. Разницу между платформами можно объяснить новизной консолей. Так, мы уже отмечали, что ХOne и PS4 - новые консоли, если на рынок вышла PS4, то ожидаемо продажи PS3 сократятся. Также на старые платформы реже выпускаются новые игры, а значит падает ее привлекательность у покупателей. Это отражается, например, на 3DS, самой ранеей из пяти платформ."
   ]
  },
  {
   "cell_type": "markdown",
   "metadata": {},
   "source": [
    "Посмотрим, как влияют на продажи внутри одной популярной платформы отзывы пользователей и критиков. Построим диаграмму рассеяния и посчитаем корреляцию между отзывами и продажами. Сформулируем выводы. Не забудем отфильтровать маркерные значения."
   ]
  },
  {
   "cell_type": "code",
   "execution_count": 32,
   "metadata": {},
   "outputs": [
    {
     "data": {
      "text/html": [
       "<div>\n",
       "<style scoped>\n",
       "    .dataframe tbody tr th:only-of-type {\n",
       "        vertical-align: middle;\n",
       "    }\n",
       "\n",
       "    .dataframe tbody tr th {\n",
       "        vertical-align: top;\n",
       "    }\n",
       "\n",
       "    .dataframe thead th {\n",
       "        text-align: right;\n",
       "    }\n",
       "</style>\n",
       "<table border=\"1\" class=\"dataframe\">\n",
       "  <thead>\n",
       "    <tr style=\"text-align: right;\">\n",
       "      <th></th>\n",
       "      <th>name</th>\n",
       "      <th>platform</th>\n",
       "      <th>year_of_release</th>\n",
       "      <th>genre</th>\n",
       "      <th>na_sales</th>\n",
       "      <th>eu_sales</th>\n",
       "      <th>jp_sales</th>\n",
       "      <th>other_sales</th>\n",
       "      <th>critic_score</th>\n",
       "      <th>user_score</th>\n",
       "      <th>rating</th>\n",
       "      <th>sales</th>\n",
       "    </tr>\n",
       "  </thead>\n",
       "  <tbody>\n",
       "    <tr>\n",
       "      <td>42</td>\n",
       "      <td>Grand Theft Auto V</td>\n",
       "      <td>PS4</td>\n",
       "      <td>2014</td>\n",
       "      <td>Action</td>\n",
       "      <td>3.96</td>\n",
       "      <td>6.31</td>\n",
       "      <td>0.38</td>\n",
       "      <td>1.97</td>\n",
       "      <td>97</td>\n",
       "      <td>8.3</td>\n",
       "      <td>M</td>\n",
       "      <td>12.62</td>\n",
       "    </tr>\n",
       "    <tr>\n",
       "      <td>77</td>\n",
       "      <td>FIFA 16</td>\n",
       "      <td>PS4</td>\n",
       "      <td>2015</td>\n",
       "      <td>Sports</td>\n",
       "      <td>1.12</td>\n",
       "      <td>6.12</td>\n",
       "      <td>0.06</td>\n",
       "      <td>1.28</td>\n",
       "      <td>82</td>\n",
       "      <td>4.3</td>\n",
       "      <td>E</td>\n",
       "      <td>8.58</td>\n",
       "    </tr>\n",
       "    <tr>\n",
       "      <td>92</td>\n",
       "      <td>Call of Duty: Advanced Warfare</td>\n",
       "      <td>PS4</td>\n",
       "      <td>2014</td>\n",
       "      <td>Shooter</td>\n",
       "      <td>2.81</td>\n",
       "      <td>3.48</td>\n",
       "      <td>0.14</td>\n",
       "      <td>1.23</td>\n",
       "      <td>83</td>\n",
       "      <td>5.7</td>\n",
       "      <td>M</td>\n",
       "      <td>7.66</td>\n",
       "    </tr>\n",
       "    <tr>\n",
       "      <td>105</td>\n",
       "      <td>Fallout 4</td>\n",
       "      <td>PS4</td>\n",
       "      <td>2015</td>\n",
       "      <td>Role-Playing</td>\n",
       "      <td>2.53</td>\n",
       "      <td>3.27</td>\n",
       "      <td>0.24</td>\n",
       "      <td>1.13</td>\n",
       "      <td>87</td>\n",
       "      <td>6.5</td>\n",
       "      <td>M</td>\n",
       "      <td>7.17</td>\n",
       "    </tr>\n",
       "    <tr>\n",
       "      <td>143</td>\n",
       "      <td>FIFA 15</td>\n",
       "      <td>PS4</td>\n",
       "      <td>2014</td>\n",
       "      <td>Sports</td>\n",
       "      <td>0.80</td>\n",
       "      <td>4.33</td>\n",
       "      <td>0.05</td>\n",
       "      <td>0.90</td>\n",
       "      <td>82</td>\n",
       "      <td>5.7</td>\n",
       "      <td>E</td>\n",
       "      <td>6.08</td>\n",
       "    </tr>\n",
       "    <tr>\n",
       "      <td>...</td>\n",
       "      <td>...</td>\n",
       "      <td>...</td>\n",
       "      <td>...</td>\n",
       "      <td>...</td>\n",
       "      <td>...</td>\n",
       "      <td>...</td>\n",
       "      <td>...</td>\n",
       "      <td>...</td>\n",
       "      <td>...</td>\n",
       "      <td>...</td>\n",
       "      <td>...</td>\n",
       "      <td>...</td>\n",
       "    </tr>\n",
       "    <tr>\n",
       "      <td>14257</td>\n",
       "      <td>JoJo's Bizarre Adventure: Eyes of Heaven</td>\n",
       "      <td>PS4</td>\n",
       "      <td>2015</td>\n",
       "      <td>Fighting</td>\n",
       "      <td>0.00</td>\n",
       "      <td>0.00</td>\n",
       "      <td>0.03</td>\n",
       "      <td>0.00</td>\n",
       "      <td>61</td>\n",
       "      <td>7.4</td>\n",
       "      <td>T</td>\n",
       "      <td>0.03</td>\n",
       "    </tr>\n",
       "    <tr>\n",
       "      <td>14708</td>\n",
       "      <td>The Talos Principle</td>\n",
       "      <td>PS4</td>\n",
       "      <td>2015</td>\n",
       "      <td>Puzzle</td>\n",
       "      <td>0.00</td>\n",
       "      <td>0.02</td>\n",
       "      <td>0.00</td>\n",
       "      <td>0.00</td>\n",
       "      <td>88</td>\n",
       "      <td>8.4</td>\n",
       "      <td>E10+</td>\n",
       "      <td>0.02</td>\n",
       "    </tr>\n",
       "    <tr>\n",
       "      <td>14899</td>\n",
       "      <td>The Peanuts Movie: Snoopy's Grand Adventure</td>\n",
       "      <td>PS4</td>\n",
       "      <td>2015</td>\n",
       "      <td>Action</td>\n",
       "      <td>0.00</td>\n",
       "      <td>0.02</td>\n",
       "      <td>0.00</td>\n",
       "      <td>0.00</td>\n",
       "      <td>59</td>\n",
       "      <td>6.6</td>\n",
       "      <td>E</td>\n",
       "      <td>0.02</td>\n",
       "    </tr>\n",
       "    <tr>\n",
       "      <td>14980</td>\n",
       "      <td>Legend of Kay Anniversary</td>\n",
       "      <td>PS4</td>\n",
       "      <td>2015</td>\n",
       "      <td>Action</td>\n",
       "      <td>0.00</td>\n",
       "      <td>0.02</td>\n",
       "      <td>0.00</td>\n",
       "      <td>0.00</td>\n",
       "      <td>62</td>\n",
       "      <td>6.4</td>\n",
       "      <td>E10+</td>\n",
       "      <td>0.02</td>\n",
       "    </tr>\n",
       "    <tr>\n",
       "      <td>15047</td>\n",
       "      <td>Omega Quintet</td>\n",
       "      <td>PS4</td>\n",
       "      <td>2014</td>\n",
       "      <td>Role-Playing</td>\n",
       "      <td>0.00</td>\n",
       "      <td>0.00</td>\n",
       "      <td>0.02</td>\n",
       "      <td>0.00</td>\n",
       "      <td>58</td>\n",
       "      <td>7.1</td>\n",
       "      <td>T</td>\n",
       "      <td>0.02</td>\n",
       "    </tr>\n",
       "  </tbody>\n",
       "</table>\n",
       "<p>153 rows × 12 columns</p>\n",
       "</div>"
      ],
      "text/plain": [
       "                                              name platform  year_of_release  \\\n",
       "42                              Grand Theft Auto V      PS4             2014   \n",
       "77                                         FIFA 16      PS4             2015   \n",
       "92                  Call of Duty: Advanced Warfare      PS4             2014   \n",
       "105                                      Fallout 4      PS4             2015   \n",
       "143                                        FIFA 15      PS4             2014   \n",
       "...                                            ...      ...              ...   \n",
       "14257     JoJo's Bizarre Adventure: Eyes of Heaven      PS4             2015   \n",
       "14708                          The Talos Principle      PS4             2015   \n",
       "14899  The Peanuts Movie: Snoopy's Grand Adventure      PS4             2015   \n",
       "14980                    Legend of Kay Anniversary      PS4             2015   \n",
       "15047                                Omega Quintet      PS4             2014   \n",
       "\n",
       "              genre  na_sales  eu_sales  jp_sales  other_sales  critic_score  \\\n",
       "42           Action      3.96      6.31      0.38         1.97            97   \n",
       "77           Sports      1.12      6.12      0.06         1.28            82   \n",
       "92          Shooter      2.81      3.48      0.14         1.23            83   \n",
       "105    Role-Playing      2.53      3.27      0.24         1.13            87   \n",
       "143          Sports      0.80      4.33      0.05         0.90            82   \n",
       "...             ...       ...       ...       ...          ...           ...   \n",
       "14257      Fighting      0.00      0.00      0.03         0.00            61   \n",
       "14708        Puzzle      0.00      0.02      0.00         0.00            88   \n",
       "14899        Action      0.00      0.02      0.00         0.00            59   \n",
       "14980        Action      0.00      0.02      0.00         0.00            62   \n",
       "15047  Role-Playing      0.00      0.00      0.02         0.00            58   \n",
       "\n",
       "       user_score rating  sales  \n",
       "42            8.3      M  12.62  \n",
       "77            4.3      E   8.58  \n",
       "92            5.7      M   7.66  \n",
       "105           6.5      M   7.17  \n",
       "143           5.7      E   6.08  \n",
       "...           ...    ...    ...  \n",
       "14257         7.4      T   0.03  \n",
       "14708         8.4   E10+   0.02  \n",
       "14899         6.6      E   0.02  \n",
       "14980         6.4   E10+   0.02  \n",
       "15047         7.1      T   0.02  \n",
       "\n",
       "[153 rows x 12 columns]"
      ]
     },
     "execution_count": 32,
     "metadata": {},
     "output_type": "execute_result"
    }
   ],
   "source": [
    "df_ps4 = df_actual.query('platform in (\"PS4\") and user_score >= 0 and critic_score >= 0')\n",
    "df_ps4"
   ]
  },
  {
   "cell_type": "markdown",
   "metadata": {},
   "source": [
    "Построим диаграмму рассеяния для 'user_score' и 'critic_score'"
   ]
  },
  {
   "cell_type": "code",
   "execution_count": 33,
   "metadata": {},
   "outputs": [
    {
     "data": {
      "image/png": "[encoded data removed]",
      "text/plain": [
       "<Figure size 936x288 with 1 Axes>"
      ]
     },
     "metadata": {
      "needs_background": "light"
     },
     "output_type": "display_data"
    },
    {
     "data": {
      "image/png": "[encoded data removed]",
      "text/plain": [
       "<Figure size 936x288 with 1 Axes>"
      ]
     },
     "metadata": {
      "needs_background": "light"
     },
     "output_type": "display_data"
    }
   ],
   "source": [
    "plt.figure(figsize=(13,4))\n",
    "sns.scatterplot(data=df_ps4, x=\"user_score\", y=\"sales\", color='red', alpha=0.3)\n",
    "plt.title('Зависимость продаж PS4 от отзывов пользователей', fontsize=22)\n",
    "plt.xlabel('Оценки пользователей')\n",
    "plt.ylabel('Продажи')\n",
    "plt.grid()\n",
    "plt.show()\n",
    "\n",
    "plt.figure(figsize=(13,4))\n",
    "sns.scatterplot(data=df_ps4, x=\"critic_score\", y=\"sales\", color='purple', alpha=0.3)\n",
    "plt.title('Зависимость продаж PS4 от отзывов критиков', fontsize=22)\n",
    "plt.xlabel('Оценки критиков')\n",
    "plt.ylabel('Продажи')\n",
    "plt.grid()\n",
    "plt.show()"
   ]
  },
  {
   "cell_type": "markdown",
   "metadata": {},
   "source": [
    "Посчитаем корреляцию между отзывами и продажами."
   ]
  },
  {
   "cell_type": "code",
   "execution_count": 34,
   "metadata": {},
   "outputs": [
    {
     "data": {
      "text/html": [
       "<style  type=\"text/css\" >\n",
       "    #T_d412308e_83da_11eb_8808_02420a3975c8row0_col0 {\n",
       "            background-color:  #b40426;\n",
       "            color:  #f1f1f1;\n",
       "        }    #T_d412308e_83da_11eb_8808_02420a3975c8row0_col1 {\n",
       "            background-color:  #3b4cc0;\n",
       "            color:  #f1f1f1;\n",
       "        }    #T_d412308e_83da_11eb_8808_02420a3975c8row0_col2 {\n",
       "            background-color:  #3b4cc0;\n",
       "            color:  #f1f1f1;\n",
       "        }    #T_d412308e_83da_11eb_8808_02420a3975c8row0_col3 {\n",
       "            background-color:  #3b4cc0;\n",
       "            color:  #f1f1f1;\n",
       "        }    #T_d412308e_83da_11eb_8808_02420a3975c8row0_col4 {\n",
       "            background-color:  #3b4cc0;\n",
       "            color:  #f1f1f1;\n",
       "        }    #T_d412308e_83da_11eb_8808_02420a3975c8row0_col5 {\n",
       "            background-color:  #3b4cc0;\n",
       "            color:  #f1f1f1;\n",
       "        }    #T_d412308e_83da_11eb_8808_02420a3975c8row0_col6 {\n",
       "            background-color:  #88abfd;\n",
       "            color:  #000000;\n",
       "        }    #T_d412308e_83da_11eb_8808_02420a3975c8row0_col7 {\n",
       "            background-color:  #3b4cc0;\n",
       "            color:  #f1f1f1;\n",
       "        }    #T_d412308e_83da_11eb_8808_02420a3975c8row1_col0 {\n",
       "            background-color:  #3b4cc0;\n",
       "            color:  #f1f1f1;\n",
       "        }    #T_d412308e_83da_11eb_8808_02420a3975c8row1_col1 {\n",
       "            background-color:  #b40426;\n",
       "            color:  #f1f1f1;\n",
       "        }    #T_d412308e_83da_11eb_8808_02420a3975c8row1_col2 {\n",
       "            background-color:  #f29274;\n",
       "            color:  #000000;\n",
       "        }    #T_d412308e_83da_11eb_8808_02420a3975c8row1_col3 {\n",
       "            background-color:  #dfdbd9;\n",
       "            color:  #000000;\n",
       "        }    #T_d412308e_83da_11eb_8808_02420a3975c8row1_col4 {\n",
       "            background-color:  #cb3e38;\n",
       "            color:  #f1f1f1;\n",
       "        }    #T_d412308e_83da_11eb_8808_02420a3975c8row1_col5 {\n",
       "            background-color:  #ccd9ed;\n",
       "            color:  #000000;\n",
       "        }    #T_d412308e_83da_11eb_8808_02420a3975c8row1_col6 {\n",
       "            background-color:  #455cce;\n",
       "            color:  #f1f1f1;\n",
       "        }    #T_d412308e_83da_11eb_8808_02420a3975c8row1_col7 {\n",
       "            background-color:  #d1493f;\n",
       "            color:  #f1f1f1;\n",
       "        }    #T_d412308e_83da_11eb_8808_02420a3975c8row2_col0 {\n",
       "            background-color:  #4257c9;\n",
       "            color:  #f1f1f1;\n",
       "        }    #T_d412308e_83da_11eb_8808_02420a3975c8row2_col1 {\n",
       "            background-color:  #f18f71;\n",
       "            color:  #000000;\n",
       "        }    #T_d412308e_83da_11eb_8808_02420a3975c8row2_col2 {\n",
       "            background-color:  #b40426;\n",
       "            color:  #f1f1f1;\n",
       "        }    #T_d412308e_83da_11eb_8808_02420a3975c8row2_col3 {\n",
       "            background-color:  #e5d8d1;\n",
       "            color:  #000000;\n",
       "        }    #T_d412308e_83da_11eb_8808_02420a3975c8row2_col4 {\n",
       "            background-color:  #c83836;\n",
       "            color:  #f1f1f1;\n",
       "        }    #T_d412308e_83da_11eb_8808_02420a3975c8row2_col5 {\n",
       "            background-color:  #b5cdfa;\n",
       "            color:  #000000;\n",
       "        }    #T_d412308e_83da_11eb_8808_02420a3975c8row2_col6 {\n",
       "            background-color:  #3b4cc0;\n",
       "            color:  #f1f1f1;\n",
       "        }    #T_d412308e_83da_11eb_8808_02420a3975c8row2_col7 {\n",
       "            background-color:  #c32e31;\n",
       "            color:  #f1f1f1;\n",
       "        }    #T_d412308e_83da_11eb_8808_02420a3975c8row3_col0 {\n",
       "            background-color:  #6180e9;\n",
       "            color:  #000000;\n",
       "        }    #T_d412308e_83da_11eb_8808_02420a3975c8row3_col1 {\n",
       "            background-color:  #edd2c3;\n",
       "            color:  #000000;\n",
       "        }    #T_d412308e_83da_11eb_8808_02420a3975c8row3_col2 {\n",
       "            background-color:  #efcfbf;\n",
       "            color:  #000000;\n",
       "        }    #T_d412308e_83da_11eb_8808_02420a3975c8row3_col3 {\n",
       "            background-color:  #b40426;\n",
       "            color:  #f1f1f1;\n",
       "        }    #T_d412308e_83da_11eb_8808_02420a3975c8row3_col4 {\n",
       "            background-color:  #f2c9b4;\n",
       "            color:  #000000;\n",
       "        }    #T_d412308e_83da_11eb_8808_02420a3975c8row3_col5 {\n",
       "            background-color:  #a1c0ff;\n",
       "            color:  #000000;\n",
       "        }    #T_d412308e_83da_11eb_8808_02420a3975c8row3_col6 {\n",
       "            background-color:  #85a8fc;\n",
       "            color:  #000000;\n",
       "        }    #T_d412308e_83da_11eb_8808_02420a3975c8row3_col7 {\n",
       "            background-color:  #f5c1a9;\n",
       "            color:  #000000;\n",
       "        }    #T_d412308e_83da_11eb_8808_02420a3975c8row4_col0 {\n",
       "            background-color:  #3f53c6;\n",
       "            color:  #f1f1f1;\n",
       "        }    #T_d412308e_83da_11eb_8808_02420a3975c8row4_col1 {\n",
       "            background-color:  #cb3e38;\n",
       "            color:  #f1f1f1;\n",
       "        }    #T_d412308e_83da_11eb_8808_02420a3975c8row4_col2 {\n",
       "            background-color:  #c83836;\n",
       "            color:  #f1f1f1;\n",
       "        }    #T_d412308e_83da_11eb_8808_02420a3975c8row4_col3 {\n",
       "            background-color:  #ebd3c6;\n",
       "            color:  #000000;\n",
       "        }    #T_d412308e_83da_11eb_8808_02420a3975c8row4_col4 {\n",
       "            background-color:  #b40426;\n",
       "            color:  #f1f1f1;\n",
       "        }    #T_d412308e_83da_11eb_8808_02420a3975c8row4_col5 {\n",
       "            background-color:  #cad8ef;\n",
       "            color:  #000000;\n",
       "        }    #T_d412308e_83da_11eb_8808_02420a3975c8row4_col6 {\n",
       "            background-color:  #4055c8;\n",
       "            color:  #f1f1f1;\n",
       "        }    #T_d412308e_83da_11eb_8808_02420a3975c8row4_col7 {\n",
       "            background-color:  #b40426;\n",
       "            color:  #f1f1f1;\n",
       "        }    #T_d412308e_83da_11eb_8808_02420a3975c8row5_col0 {\n",
       "            background-color:  #6b8df0;\n",
       "            color:  #000000;\n",
       "        }    #T_d412308e_83da_11eb_8808_02420a3975c8row5_col1 {\n",
       "            background-color:  #e3d9d3;\n",
       "            color:  #000000;\n",
       "        }    #T_d412308e_83da_11eb_8808_02420a3975c8row5_col2 {\n",
       "            background-color:  #cfdaea;\n",
       "            color:  #000000;\n",
       "        }    #T_d412308e_83da_11eb_8808_02420a3975c8row5_col3 {\n",
       "            background-color:  #a9c6fd;\n",
       "            color:  #000000;\n",
       "        }    #T_d412308e_83da_11eb_8808_02420a3975c8row5_col4 {\n",
       "            background-color:  #dfdbd9;\n",
       "            color:  #000000;\n",
       "        }    #T_d412308e_83da_11eb_8808_02420a3975c8row5_col5 {\n",
       "            background-color:  #b40426;\n",
       "            color:  #f1f1f1;\n",
       "        }    #T_d412308e_83da_11eb_8808_02420a3975c8row5_col6 {\n",
       "            background-color:  #f3c7b1;\n",
       "            color:  #000000;\n",
       "        }    #T_d412308e_83da_11eb_8808_02420a3975c8row5_col7 {\n",
       "            background-color:  #e0dbd8;\n",
       "            color:  #000000;\n",
       "        }    #T_d412308e_83da_11eb_8808_02420a3975c8row6_col0 {\n",
       "            background-color:  #aec9fc;\n",
       "            color:  #000000;\n",
       "        }    #T_d412308e_83da_11eb_8808_02420a3975c8row6_col1 {\n",
       "            background-color:  #7295f4;\n",
       "            color:  #000000;\n",
       "        }    #T_d412308e_83da_11eb_8808_02420a3975c8row6_col2 {\n",
       "            background-color:  #6180e9;\n",
       "            color:  #000000;\n",
       "        }    #T_d412308e_83da_11eb_8808_02420a3975c8row6_col3 {\n",
       "            background-color:  #8caffe;\n",
       "            color:  #000000;\n",
       "        }    #T_d412308e_83da_11eb_8808_02420a3975c8row6_col4 {\n",
       "            background-color:  #6a8bef;\n",
       "            color:  #000000;\n",
       "        }    #T_d412308e_83da_11eb_8808_02420a3975c8row6_col5 {\n",
       "            background-color:  #f3c8b2;\n",
       "            color:  #000000;\n",
       "        }    #T_d412308e_83da_11eb_8808_02420a3975c8row6_col6 {\n",
       "            background-color:  #b40426;\n",
       "            color:  #f1f1f1;\n",
       "        }    #T_d412308e_83da_11eb_8808_02420a3975c8row6_col7 {\n",
       "            background-color:  #6c8ff1;\n",
       "            color:  #000000;\n",
       "        }    #T_d412308e_83da_11eb_8808_02420a3975c8row7_col0 {\n",
       "            background-color:  #3d50c3;\n",
       "            color:  #f1f1f1;\n",
       "        }    #T_d412308e_83da_11eb_8808_02420a3975c8row7_col1 {\n",
       "            background-color:  #d0473d;\n",
       "            color:  #f1f1f1;\n",
       "        }    #T_d412308e_83da_11eb_8808_02420a3975c8row7_col2 {\n",
       "            background-color:  #c32e31;\n",
       "            color:  #f1f1f1;\n",
       "        }    #T_d412308e_83da_11eb_8808_02420a3975c8row7_col3 {\n",
       "            background-color:  #f0cdbb;\n",
       "            color:  #000000;\n",
       "        }    #T_d412308e_83da_11eb_8808_02420a3975c8row7_col4 {\n",
       "            background-color:  #b40426;\n",
       "            color:  #f1f1f1;\n",
       "        }    #T_d412308e_83da_11eb_8808_02420a3975c8row7_col5 {\n",
       "            background-color:  #c9d7f0;\n",
       "            color:  #000000;\n",
       "        }    #T_d412308e_83da_11eb_8808_02420a3975c8row7_col6 {\n",
       "            background-color:  #4257c9;\n",
       "            color:  #f1f1f1;\n",
       "        }    #T_d412308e_83da_11eb_8808_02420a3975c8row7_col7 {\n",
       "            background-color:  #b40426;\n",
       "            color:  #f1f1f1;\n",
       "        }</style><table id=\"T_d412308e_83da_11eb_8808_02420a3975c8\" ><thead>    <tr>        <th class=\"blank level0\" ></th>        <th class=\"col_heading level0 col0\" >year_of_release</th>        <th class=\"col_heading level0 col1\" >na_sales</th>        <th class=\"col_heading level0 col2\" >eu_sales</th>        <th class=\"col_heading level0 col3\" >jp_sales</th>        <th class=\"col_heading level0 col4\" >other_sales</th>        <th class=\"col_heading level0 col5\" >critic_score</th>        <th class=\"col_heading level0 col6\" >user_score</th>        <th class=\"col_heading level0 col7\" >sales</th>    </tr></thead><tbody>\n",
       "                <tr>\n",
       "                        <th id=\"T_d412308e_83da_11eb_8808_02420a3975c8level0_row0\" class=\"row_heading level0 row0\" >year_of_release</th>\n",
       "                        <td id=\"T_d412308e_83da_11eb_8808_02420a3975c8row0_col0\" class=\"data row0 col0\" >1</td>\n",
       "                        <td id=\"T_d412308e_83da_11eb_8808_02420a3975c8row0_col1\" class=\"data row0 col1\" >-0.176943</td>\n",
       "                        <td id=\"T_d412308e_83da_11eb_8808_02420a3975c8row0_col2\" class=\"data row0 col2\" >-0.146859</td>\n",
       "                        <td id=\"T_d412308e_83da_11eb_8808_02420a3975c8row0_col3\" class=\"data row0 col3\" >-0.0326201</td>\n",
       "                        <td id=\"T_d412308e_83da_11eb_8808_02420a3975c8row0_col4\" class=\"data row0 col4\" >-0.15832</td>\n",
       "                        <td id=\"T_d412308e_83da_11eb_8808_02420a3975c8row0_col5\" class=\"data row0 col5\" >0.00442395</td>\n",
       "                        <td id=\"T_d412308e_83da_11eb_8808_02420a3975c8row0_col6\" class=\"data row0 col6\" >0.230953</td>\n",
       "                        <td id=\"T_d412308e_83da_11eb_8808_02420a3975c8row0_col7\" class=\"data row0 col7\" >-0.165865</td>\n",
       "            </tr>\n",
       "            <tr>\n",
       "                        <th id=\"T_d412308e_83da_11eb_8808_02420a3975c8level0_row1\" class=\"row_heading level0 row1\" >na_sales</th>\n",
       "                        <td id=\"T_d412308e_83da_11eb_8808_02420a3975c8row1_col0\" class=\"data row1 col0\" >-0.176943</td>\n",
       "                        <td id=\"T_d412308e_83da_11eb_8808_02420a3975c8row1_col1\" class=\"data row1 col1\" >1</td>\n",
       "                        <td id=\"T_d412308e_83da_11eb_8808_02420a3975c8row1_col2\" class=\"data row1 col2\" >0.733715</td>\n",
       "                        <td id=\"T_d412308e_83da_11eb_8808_02420a3975c8row1_col3\" class=\"data row1 col3\" >0.493806</td>\n",
       "                        <td id=\"T_d412308e_83da_11eb_8808_02420a3975c8row1_col4\" class=\"data row1 col4\" >0.924469</td>\n",
       "                        <td id=\"T_d412308e_83da_11eb_8808_02420a3975c8row1_col5\" class=\"data row1 col5\" >0.441026</td>\n",
       "                        <td id=\"T_d412308e_83da_11eb_8808_02420a3975c8row1_col6\" class=\"data row1 col6\" >0.0292419</td>\n",
       "                        <td id=\"T_d412308e_83da_11eb_8808_02420a3975c8row1_col7\" class=\"data row1 col7\" >0.904122</td>\n",
       "            </tr>\n",
       "            <tr>\n",
       "                        <th id=\"T_d412308e_83da_11eb_8808_02420a3975c8level0_row2\" class=\"row_heading level0 row2\" >eu_sales</th>\n",
       "                        <td id=\"T_d412308e_83da_11eb_8808_02420a3975c8row2_col0\" class=\"data row2 col0\" >-0.146859</td>\n",
       "                        <td id=\"T_d412308e_83da_11eb_8808_02420a3975c8row2_col1\" class=\"data row2 col1\" >0.733715</td>\n",
       "                        <td id=\"T_d412308e_83da_11eb_8808_02420a3975c8row2_col2\" class=\"data row2 col2\" >1</td>\n",
       "                        <td id=\"T_d412308e_83da_11eb_8808_02420a3975c8row2_col3\" class=\"data row2 col3\" >0.519858</td>\n",
       "                        <td id=\"T_d412308e_83da_11eb_8808_02420a3975c8row2_col4\" class=\"data row2 col4\" >0.936236</td>\n",
       "                        <td id=\"T_d412308e_83da_11eb_8808_02420a3975c8row2_col5\" class=\"data row2 col5\" >0.369818</td>\n",
       "                        <td id=\"T_d412308e_83da_11eb_8808_02420a3975c8row2_col6\" class=\"data row2 col6\" >-0.00735632</td>\n",
       "                        <td id=\"T_d412308e_83da_11eb_8808_02420a3975c8row2_col7\" class=\"data row2 col7\" >0.952721</td>\n",
       "            </tr>\n",
       "            <tr>\n",
       "                        <th id=\"T_d412308e_83da_11eb_8808_02420a3975c8level0_row3\" class=\"row_heading level0 row3\" >jp_sales</th>\n",
       "                        <td id=\"T_d412308e_83da_11eb_8808_02420a3975c8row3_col0\" class=\"data row3 col0\" >-0.0326201</td>\n",
       "                        <td id=\"T_d412308e_83da_11eb_8808_02420a3975c8row3_col1\" class=\"data row3 col1\" >0.493806</td>\n",
       "                        <td id=\"T_d412308e_83da_11eb_8808_02420a3975c8row3_col2\" class=\"data row3 col2\" >0.519858</td>\n",
       "                        <td id=\"T_d412308e_83da_11eb_8808_02420a3975c8row3_col3\" class=\"data row3 col3\" >1</td>\n",
       "                        <td id=\"T_d412308e_83da_11eb_8808_02420a3975c8row3_col4\" class=\"data row3 col4\" >0.545088</td>\n",
       "                        <td id=\"T_d412308e_83da_11eb_8808_02420a3975c8row3_col5\" class=\"data row3 col5\" >0.308805</td>\n",
       "                        <td id=\"T_d412308e_83da_11eb_8808_02420a3975c8row3_col6\" class=\"data row3 col6\" >0.224769</td>\n",
       "                        <td id=\"T_d412308e_83da_11eb_8808_02420a3975c8row3_col7\" class=\"data row3 col7\" >0.573951</td>\n",
       "            </tr>\n",
       "            <tr>\n",
       "                        <th id=\"T_d412308e_83da_11eb_8808_02420a3975c8level0_row4\" class=\"row_heading level0 row4\" >other_sales</th>\n",
       "                        <td id=\"T_d412308e_83da_11eb_8808_02420a3975c8row4_col0\" class=\"data row4 col0\" >-0.15832</td>\n",
       "                        <td id=\"T_d412308e_83da_11eb_8808_02420a3975c8row4_col1\" class=\"data row4 col1\" >0.924469</td>\n",
       "                        <td id=\"T_d412308e_83da_11eb_8808_02420a3975c8row4_col2\" class=\"data row4 col2\" >0.936236</td>\n",
       "                        <td id=\"T_d412308e_83da_11eb_8808_02420a3975c8row4_col3\" class=\"data row4 col3\" >0.545088</td>\n",
       "                        <td id=\"T_d412308e_83da_11eb_8808_02420a3975c8row4_col4\" class=\"data row4 col4\" >1</td>\n",
       "                        <td id=\"T_d412308e_83da_11eb_8808_02420a3975c8row4_col5\" class=\"data row4 col5\" >0.433477</td>\n",
       "                        <td id=\"T_d412308e_83da_11eb_8808_02420a3975c8row4_col6\" class=\"data row4 col6\" >0.0158839</td>\n",
       "                        <td id=\"T_d412308e_83da_11eb_8808_02420a3975c8row4_col7\" class=\"data row4 col7\" >0.997718</td>\n",
       "            </tr>\n",
       "            <tr>\n",
       "                        <th id=\"T_d412308e_83da_11eb_8808_02420a3975c8level0_row5\" class=\"row_heading level0 row5\" >critic_score</th>\n",
       "                        <td id=\"T_d412308e_83da_11eb_8808_02420a3975c8row5_col0\" class=\"data row5 col0\" >0.00442395</td>\n",
       "                        <td id=\"T_d412308e_83da_11eb_8808_02420a3975c8row5_col1\" class=\"data row5 col1\" >0.441026</td>\n",
       "                        <td id=\"T_d412308e_83da_11eb_8808_02420a3975c8row5_col2\" class=\"data row5 col2\" >0.369818</td>\n",
       "                        <td id=\"T_d412308e_83da_11eb_8808_02420a3975c8row5_col3\" class=\"data row5 col3\" >0.308805</td>\n",
       "                        <td id=\"T_d412308e_83da_11eb_8808_02420a3975c8row5_col4\" class=\"data row5 col4\" >0.433477</td>\n",
       "                        <td id=\"T_d412308e_83da_11eb_8808_02420a3975c8row5_col5\" class=\"data row5 col5\" >1</td>\n",
       "                        <td id=\"T_d412308e_83da_11eb_8808_02420a3975c8row5_col6\" class=\"data row5 col6\" >0.612451</td>\n",
       "                        <td id=\"T_d412308e_83da_11eb_8808_02420a3975c8row5_col7\" class=\"data row5 col7\" >0.430777</td>\n",
       "            </tr>\n",
       "            <tr>\n",
       "                        <th id=\"T_d412308e_83da_11eb_8808_02420a3975c8level0_row6\" class=\"row_heading level0 row6\" >user_score</th>\n",
       "                        <td id=\"T_d412308e_83da_11eb_8808_02420a3975c8row6_col0\" class=\"data row6 col0\" >0.230953</td>\n",
       "                        <td id=\"T_d412308e_83da_11eb_8808_02420a3975c8row6_col1\" class=\"data row6 col1\" >0.0292419</td>\n",
       "                        <td id=\"T_d412308e_83da_11eb_8808_02420a3975c8row6_col2\" class=\"data row6 col2\" >-0.00735632</td>\n",
       "                        <td id=\"T_d412308e_83da_11eb_8808_02420a3975c8row6_col3\" class=\"data row6 col3\" >0.224769</td>\n",
       "                        <td id=\"T_d412308e_83da_11eb_8808_02420a3975c8row6_col4\" class=\"data row6 col4\" >0.0158839</td>\n",
       "                        <td id=\"T_d412308e_83da_11eb_8808_02420a3975c8row6_col5\" class=\"data row6 col5\" >0.612451</td>\n",
       "                        <td id=\"T_d412308e_83da_11eb_8808_02420a3975c8row6_col6\" class=\"data row6 col6\" >1</td>\n",
       "                        <td id=\"T_d412308e_83da_11eb_8808_02420a3975c8row6_col7\" class=\"data row6 col7\" >0.0181395</td>\n",
       "            </tr>\n",
       "            <tr>\n",
       "                        <th id=\"T_d412308e_83da_11eb_8808_02420a3975c8level0_row7\" class=\"row_heading level0 row7\" >sales</th>\n",
       "                        <td id=\"T_d412308e_83da_11eb_8808_02420a3975c8row7_col0\" class=\"data row7 col0\" >-0.165865</td>\n",
       "                        <td id=\"T_d412308e_83da_11eb_8808_02420a3975c8row7_col1\" class=\"data row7 col1\" >0.904122</td>\n",
       "                        <td id=\"T_d412308e_83da_11eb_8808_02420a3975c8row7_col2\" class=\"data row7 col2\" >0.952721</td>\n",
       "                        <td id=\"T_d412308e_83da_11eb_8808_02420a3975c8row7_col3\" class=\"data row7 col3\" >0.573951</td>\n",
       "                        <td id=\"T_d412308e_83da_11eb_8808_02420a3975c8row7_col4\" class=\"data row7 col4\" >0.997718</td>\n",
       "                        <td id=\"T_d412308e_83da_11eb_8808_02420a3975c8row7_col5\" class=\"data row7 col5\" >0.430777</td>\n",
       "                        <td id=\"T_d412308e_83da_11eb_8808_02420a3975c8row7_col6\" class=\"data row7 col6\" >0.0181395</td>\n",
       "                        <td id=\"T_d412308e_83da_11eb_8808_02420a3975c8row7_col7\" class=\"data row7 col7\" >1</td>\n",
       "            </tr>\n",
       "    </tbody></table>"
      ],
      "text/plain": [
       "<pandas.io.formats.style.Styler at 0x7f285b132550>"
      ]
     },
     "execution_count": 34,
     "metadata": {},
     "output_type": "execute_result"
    }
   ],
   "source": [
    "df_ps4.corr().style.background_gradient('coolwarm')"
   ]
  },
  {
   "cell_type": "markdown",
   "metadata": {},
   "source": [
    "Корреляция продаж и рейтингов пользователей - 0.0181395. Это говорит о слабой связи этих значений. Корреляция продаж и рейтингов критиков - 0.430777, здесь связь сильнее.\n",
    "\n",
    "Если обратиться к диаграммам рассеяния, то на графике \"Зависимость продаж PS4 от отзывов пользователей\", мы видим, что есть масса точек с наиболее частыми сочетаниями продаж и оценок пользователей. Она находится районе оценок 6,5-8,5. Судя по графику, утверждать, что при более высокой оценке пользователя растут продажи, мы не можем. Так, например, плотность значений продаж для оценки 7 и 8 практически одинаковая, за исключением некоторых аномальных значений. Однако стоит отметить, что прадажи до оценки 5,5 - редкие. \n",
    "\n",
    "Если обратиться к диаграммам рассеяния, то на графике \"Зависимость продаж PS4 от отзывов критиков\", мы видим, что есть масса точек с наиболее частыми сочетаниями продаж и оценок пользователей. Она находится районе оценок 55-85. На графике видим, что есть небольшая зависимость от продаж и отзывов критиков, однако совсем небольшая. Это подтверждается корреляцией, которая говорит о том, что здесь выше, чем у продаж и рейтингов пользователей."
   ]
  },
  {
   "cell_type": "markdown",
   "metadata": {},
   "source": [
    "Соотнесем выводы с продажами игр на других платформах. Отфильтруем маркерные значения и построим диаграмму рассеяния для 'user_score' и 'critic_score'."
   ]
  },
  {
   "cell_type": "code",
   "execution_count": 36,
   "metadata": {},
   "outputs": [],
   "source": [
    "df_rest = df_actual.query('user_score >= 0 and critic_score >= 0')"
   ]
  },
  {
   "cell_type": "code",
   "execution_count": 37,
   "metadata": {},
   "outputs": [
    {
     "data": {
      "image/png": "[encoded data removed]",
      "text/plain": [
       "<Figure size 936x288 with 1 Axes>"
      ]
     },
     "metadata": {
      "needs_background": "light"
     },
     "output_type": "display_data"
    },
    {
     "data": {
      "image/png": "[encoded data removed]",
      "text/plain": [
       "<Figure size 936x288 with 1 Axes>"
      ]
     },
     "metadata": {
      "needs_background": "light"
     },
     "output_type": "display_data"
    }
   ],
   "source": [
    "plt.figure(figsize=(13,4))\n",
    "sns.scatterplot(data=df_rest, x=\"user_score\", y=\"sales\", color='red', alpha=0.3)\n",
    "plt.title('Зависимость продаж от отзывов пользователей', fontsize=22)\n",
    "plt.xlabel('Оценки пользователей')\n",
    "plt.ylabel('Продажи')\n",
    "plt.grid()\n",
    "plt.show()\n",
    "\n",
    "plt.figure(figsize=(13,4))\n",
    "sns.scatterplot(data=df_rest, x=\"critic_score\", y=\"sales\", color='purple', alpha=0.3)\n",
    "plt.title('Зависимость продаж от отзывов критиков', fontsize=22)\n",
    "plt.xlabel('Оценки критиков')\n",
    "plt.ylabel('Продажи')\n",
    "plt.grid()\n",
    "plt.show()"
   ]
  },
  {
   "cell_type": "markdown",
   "metadata": {},
   "source": [
    "Если обратиться к диаграммам рассеянья датасета df_rest, то они довольно схожи с показателями по PS4. И, как итог, мы не можем утверждать, что при более высокой оценке пользователя растут продажи. Однако стоит отметить, что при низких оценках, продаж становится меньше. Также мы знаем, что в датасете присутствуют только топовые консоли, которые и котируются на рынке."
   ]
  },
  {
   "cell_type": "markdown",
   "metadata": {},
   "source": [
    "Посмотрим на общее распределение игр по жанрам. Что можно сказать о самых прибыльных жанрах? Выделяются ли жанры с высокими и низкими продажами?"
   ]
  },
  {
   "cell_type": "code",
   "execution_count": 38,
   "metadata": {},
   "outputs": [
    {
     "data": {
      "image/png": "[encoded data removed]",
      "text/plain": [
       "<Figure size 936x288 with 1 Axes>"
      ]
     },
     "metadata": {
      "needs_background": "light"
     },
     "output_type": "display_data"
    }
   ],
   "source": [
    "sales_genre = (df_actual\n",
    "               .pivot_table(index= 'genre', values='sales', aggfunc= 'sum')\n",
    "               .sort_values(by =('sales'), ascending = False)\n",
    "               .plot(kind = 'bar', ec='black', figsize=(13,4), color='turquoise')\n",
    "                )\n",
    "plt.title('Распределение игр по жанрам', fontsize=22)\n",
    "plt.xlabel('Жанры')\n",
    "plt.ylabel('Значения')\n",
    "plt.grid()\n",
    "plt.show()"
   ]
  },
  {
   "cell_type": "markdown",
   "metadata": {},
   "source": [
    "Судя по продажам, самый популярный жанр Action. Следующими идут Simulation, Role-Playing, Sports. Эти три жанра компьютерных игр, существенно преобладают по прибыльности над остальными жанрами. Самые маленькие продажи имеют Puzzle и Strategy'."
   ]
  },
  {
   "cell_type": "markdown",
   "metadata": {},
   "source": [
    "### Вывод"
   ]
  },
  {
   "cell_type": "markdown",
   "metadata": {},
   "source": [
    "Мы располагаем данными об играх, выпускаемых с 1980 по 2016 годы. Рост количества игр наблюдается с 1995 года, а больше всего игр выпускалось в 2008 и 2009 годах.  Самой продаваемой оказалась платформа PS2, пик ее продаж приходится на 2004 год. Немного уступает ей по продажам платформа Wii. Пик ее продаж приходится на 2009 год, стоит отметить, что в это время продажи PS2 серьезно сократились. С 2014 года популярность набирает платформа PS4. В 2012-2013 годах популярными были PS3 и Х360. \n",
    "\n",
    "Можно сказать, что срок жизни платформы составляет примерно 10-11 лет, однако, например, жизнь платформы DS больше 10 лет. Наши расчеты показали, что средний срок жизни платформы 6-7 лет. Для исследования мы определили актуальный временной период, данные за который, помогут сделать прогноз на 2017 год. Мы помним, что данные за 2016 год, могут быть не полными, этот год включать в исследование не стали. Актуальным можно считать временной отрезок с 2013 по 2015 годы. В этот период появилась новая платформа, которая стала набирать обороты, есть возможность проследить ее жизненный цикл. Кроме того, мы смогли проследить за другими, еще не потерявшими интерес у пользователей, платформами. \n",
    "\n",
    "В указанный отрезок времени на рынке были представлены 11 платформ. По продажам, два года из трех, лидировала PS4. В 2013 лидером по продажам была PS3, тогда PS4 только появилась на рынке. Самые низкие продажи у PSP и DS.\n",
    "Судя по графику, с 2013 по 2015 годы росли продажи PS4 и XOne, продажи остальных платформ сокращались. Потенциально прибыльные платформы: PS4, XOne - продажи по ним растут; 3DS, PS3 и WiiU - продажи по ним или сократились, однако по сравнению с другими платформами они занимали свою долю на рынке. Можно отметить, что медианные продажи меньше, у платформы 3DS, больше - у XOne. Однако в целом больше продаж приходится на PS4, где значительная часть продаж выше медианных значений. Корреляция продаж и рейтингов критиков или пользователе небольшая.  Это говорит о слабой связи этих значений. \n",
    "\n",
    "\n",
    "Судя по продажам, самый популярный жанр Action. Следующими идут Simulation, Role-Playing, Sports. Эти три жанра компьютерных игр, существенно преобладают по прибыльности над остальными жанрами. Самые маленькие продажи имеют Puzzle и Strategy'."
   ]
  },
  {
   "cell_type": "markdown",
   "metadata": {},
   "source": [
    "### Шаг 4. Составим портрет пользователя каждого региона"
   ]
  },
  {
   "cell_type": "markdown",
   "metadata": {},
   "source": [
    "Определим для пользователя каждого региона (NA, EU, JP) самые популярные платформы (топ-5). "
   ]
  },
  {
   "cell_type": "code",
   "execution_count": 39,
   "metadata": {},
   "outputs": [
    {
     "data": {
      "image/png": "[encoded data removed]",
      "text/plain": [
       "<Figure size 1440x360 with 1 Axes>"
      ]
     },
     "metadata": {
      "needs_background": "light"
     },
     "output_type": "display_data"
    }
   ],
   "source": [
    "def draw_bar(df_year, col_x, col_y):\n",
    "    colors = (\"red\", \"purple\", \"turquoise\")\n",
    "    (df_year.sort_index()\n",
    "     .pivot_table(index = col_x, values = col_y, aggfunc='sum')\n",
    "     .sort_values(by=col_x)\n",
    "     .plot(kind = 'bar',\n",
    "           color=colors,\n",
    "           figsize=(20,5))\n",
    "    )\n",
    "    plt.title('ТОП-5 платформ')\n",
    "    plt.xlabel('Платформы')\n",
    "    plt.ylabel('Продажи в регионе')\n",
    "    plt.grid()\n",
    "    plt.show()\n",
    "    \n",
    "col_y  = ['na_sales', 'eu_sales', 'jp_sales']\n",
    "col_x= ['platform']\n",
    "draw_bar(df_year, col_x, col_y)"
   ]
  },
  {
   "cell_type": "markdown",
   "metadata": {},
   "source": [
    "- ТОП-5 платформ в Европе (по убыванию): PS4, PS3, X360, XOne, 3DS.\n",
    "- ТОП-5 платформ в Японии (по убыванию): 3DS, PS3, PSV, PS4, WiiU.\n",
    "- ТОП-5 платформ в Северной Америке (по убыванию): PS4, X360, XOne, PS3, 3DS.\n",
    "\n",
    "Доля продаж PS4 выше остальных платформ. Она стала лидером по продажам в Европе и Северной Америке, однако не стала такой популярной в Японии и заняла лишь четвертое место в ТОП-5. Похожая ситуация с PS3, X360, XOne. Зато в Японии выше доля продаж 3DS, тогда как в Европе и Северной Америке, она занимает лишь пятое место.\n",
    "Если сравнивать регионы по отдельности, можно отметить, что в Северной Америке, доли продаж четырех из пяти платформ, отличаются не сильно, тогда как в Европе и Японии имеется серьезный разрыв между первым и пятым местом."
   ]
  },
  {
   "cell_type": "markdown",
   "metadata": {},
   "source": [
    "Определим для пользователя каждого региона (NA, EU, JP) самые популярные жанры (топ-5). Поясним разницу."
   ]
  },
  {
   "cell_type": "code",
   "execution_count": 40,
   "metadata": {},
   "outputs": [
    {
     "data": {
      "image/png": "[encoded data removed]",
      "text/plain": [
       "<Figure size 1440x360 with 1 Axes>"
      ]
     },
     "metadata": {
      "needs_background": "light"
     },
     "output_type": "display_data"
    }
   ],
   "source": [
    "def draw_bar(df_year, col_x, col_y):\n",
    "    colors = (\"red\", \"purple\", \"turquoise\")\n",
    "    (df_year.sort_index()\n",
    "     .pivot_table(index = col_x, values = col_y, aggfunc='sum')\n",
    "     .sort_values(by=col_x)\n",
    "     .plot(kind = 'bar',\n",
    "           color=colors,\n",
    "           figsize=(20, 5))\n",
    "    )\n",
    "    plt.title('ТОП-5 жанров')\n",
    "    plt.xlabel('Жанры')\n",
    "    plt.ylabel('Продажи в регионе')\n",
    "    plt.grid()\n",
    "    plt.show()\n",
    "    \n",
    "col_y  = ['na_sales', 'eu_sales', 'jp_sales']\n",
    "col_x= ['genre']\n",
    "draw_bar(df_year, col_x, col_y)"
   ]
  },
  {
   "cell_type": "markdown",
   "metadata": {},
   "source": [
    "- ТОП-5 жанров в Европе (по убыванию): Action, Shooter, Sports, Role-Playing, Misc.\n",
    "- ТОП-5 жанров в Японии (по убыванию): Role-Playing, Action, Misc, Fighting, Shooter.\n",
    "- ТОП-5 жанров в Северной Америке (по убыванию): Action, Shooter, Sports, Role-Playing, Misc.\n",
    "\n",
    "У европейцев и жителей Северной Америки схожие предпочтения относительно жанров. У пользователей из Японии, несмотря на пересечения в жанрах, свой взгляд на любимые компьютерные игры. Это можно объяснить разницей в менталитете наций."
   ]
  },
  {
   "cell_type": "markdown",
   "metadata": {},
   "source": [
    "Определим для пользователя каждого региона (NA, EU, JP) влияет ли рейтинг ESRB на продажи в отдельном регионе?"
   ]
  },
  {
   "cell_type": "code",
   "execution_count": 41,
   "metadata": {},
   "outputs": [
    {
     "data": {
      "image/png": "[encoded data removed]",
      "text/plain": [
       "<Figure size 1440x360 with 1 Axes>"
      ]
     },
     "metadata": {
      "needs_background": "light"
     },
     "output_type": "display_data"
    }
   ],
   "source": [
    "def draw_bar(df_year, col_x, col_y):\n",
    "    colors = (\"red\", \"purple\", \"turquoise\")\n",
    "    (df_year.sort_index()\n",
    "     .pivot_table(index = col_x, values = col_y, aggfunc='sum')\n",
    "     .sort_values(by=col_x)\n",
    "     .plot(kind = 'bar',\n",
    "           color=colors,\n",
    "           figsize=(20, 5))\n",
    "    )\n",
    "    plt.title('Влияние рейтинга ESRB на продажи в регионе')\n",
    "    plt.xlabel('Рейтинг ESRB')\n",
    "    plt.ylabel('Продажи в регионе')\n",
    "    plt.grid()\n",
    "    plt.show()\n",
    "    \n",
    "col_y  = ['na_sales', 'eu_sales', 'jp_sales']\n",
    "col_x= ['rating']\n",
    "draw_bar(df_year, col_x, col_y)"
   ]
  },
  {
   "cell_type": "markdown",
   "metadata": {},
   "source": [
    "Мы помним, что значение \"undefined\" - маркерное. В Европе и Америке, картина по продажам одинаковая. Лучше продаются игры с рейтингом М, а затем Е, Е10+, Т.\n",
    "\n",
    "В Японии продажи выше у игр, с маркерным рейтингом undefined, дальше практически на ровне идут Т, Е и М. Можем предположить, что доля игр без рейтинга велика, потому что Entertainment Software Rating Board — негосударственная организация, основное направление деятельности — принятие и определение рейтингов для компьютерных видеоигр и другого развлекательного программного обеспечения в США и Канаде. Допускаем, что игры, которые не выходят официально на территории США и Канады не получают такой рейтинг. Возможно, рейтинг отсутствует у каких-то локальных игр, или в Японии есть своей рейтинг.\n",
    "\n",
    "Можно сказать, что рейтинг ESRB влияет на продажи в Европе и Америке, в Японии - незначительно.\n"
   ]
  },
  {
   "cell_type": "markdown",
   "metadata": {},
   "source": [
    "### Вывод"
   ]
  },
  {
   "cell_type": "markdown",
   "metadata": {},
   "source": [
    "Доля продаж PS4 выше остальных платформ. PS4 стала лидером по продажам в Европе и Северной Америке, однако не стала такой популярной в Японии и заняла лишь четвертое место в ТОП-5. Похожая ситуация с PS3, X360, XOne. Зато в Японии выше доля продаж 3DS, тогда как в Европе и Северной Америке, она занимает лишь пятое место.\n",
    "Если сравнивать регионы по отдельности, можно отметить, что в Северной Америке, доли продаж четырех из пяти платформ, отличаются не сильно, тогда как в Европе и Японии имеется серьезный разрыв между первым и пятым местом.\n",
    "\n",
    "У европейцев и жителей Северной Америки схожие предпочтения относительно жанров. У пользователей из Японии, несмотря на пересечения в жанрах, свой взгляд на любимые компьютерные игры. Это можно объяснить разницей в менталитете наций.\n",
    "\n",
    "В Европе и Америке лучше продаются игры с рейтингом М, а затем Е, Е10+, Т. В Японии продажи выше у игр, с маркерным рейтингом undefined, дальше практически на ровне идут Т, Е и М. Можем предположить, что доля игр без рейтинга велика, потому что Entertainment Software Rating Board — негосударственная организация, основное направление деятельности — принятие и определение рейтингов для компьютерных видеоигр и другого развлекательного программного обеспечения в США и Канаде. Допускаем, что игры, которые не выходят официально на территории США и Канады не получают такой рейтинг. Возможно, рейтинг отсутствует у каких-то локальных игр, или в Японии есть своей рейтинг.\n",
    "\n",
    "Можно сказать, что рейтинг ESRB влияет на продажи в Европе и Америке, в Японии - незначительно."
   ]
  },
  {
   "cell_type": "markdown",
   "metadata": {},
   "source": [
    "### Шаг 5. Проверим гипотезы"
   ]
  },
  {
   "cell_type": "markdown",
   "metadata": {},
   "source": [
    "Проверяем гипотезу, что средние пользовательские рейтинги платформ Xbox One и PC одинаковые.\n",
    "Начнем с формулировки нулевой гипотезы Н0. Она всегда формируется так, чтобы можно было использовать знак равенства.\n",
    "\n",
    "Н0:\n",
    "\n",
    "Средние пользовательские рейтинги платформ Xbox One и PC равны.\n",
    "\n",
    "Исходя из Н0, формируется альтернативная гипотеза Н1:\n",
    "\n",
    "Средние пользовательские рейтинги платформ Xbox One и PC различны.\n",
    "\n",
    "Пороговое значение alpha примем за 5%.\n",
    "\n",
    "Чтобы проверить дисперсию, применим тест Левена, вызвав метод st.levene(). Этот контрольный тест проверяет нулевую гипотезу о том, что все выборки происходят из популяций с равными дисперсиями.\n",
    "\n",
    "H0 - дисперсии выборок равны.\n",
    "\n",
    "H1 - дисперсии выборок различны."
   ]
  },
  {
   "cell_type": "code",
   "execution_count": 42,
   "metadata": {},
   "outputs": [],
   "source": [
    "df_xone = df.query('platform in (\"XOne\") and user_score >= 0')\n",
    "df_pc = df.query('platform in (\"PC\") and user_score >= 0')"
   ]
  },
  {
   "cell_type": "code",
   "execution_count": 43,
   "metadata": {},
   "outputs": [
    {
     "name": "stdout",
     "output_type": "stream",
     "text": [
      "p-значение: 0.2795532372785057\n",
      "Не получилось отвергнуть нулевую гипотезу\n"
     ]
    }
   ],
   "source": [
    "alpha = 0.05\n",
    "results = st.levene(df_xone['user_score'].dropna(), df_pc['user_score'].dropna())\n",
    "print('p-значение:', results.pvalue)\n",
    "if (results.pvalue < alpha):\n",
    "    print(\"Отвергаем нулевую гипотезу\")\n",
    "else:\n",
    "    print(\"Не получилось отвергнуть нулевую гипотезу\")"
   ]
  },
  {
   "cell_type": "markdown",
   "metadata": {},
   "source": [
    "Когда критерий дисперсии равны, мы можем продолжить и применить контроль t-теста, вызвав метод st.ttest_ind() к данным и использовать equal_var=True."
   ]
  },
  {
   "cell_type": "code",
   "execution_count": 44,
   "metadata": {},
   "outputs": [
    {
     "name": "stdout",
     "output_type": "stream",
     "text": [
      "p-значение: 1.3037979620149106e-05\n",
      "Отвергаем нулевую гипотезу\n"
     ]
    }
   ],
   "source": [
    "alpha = 0.05\n",
    "results = st.ttest_ind(df_xone['user_score'], df_pc['user_score'], equal_var = True)\n",
    "print('p-значение:', results.pvalue)\n",
    "if (results.pvalue < alpha):\n",
    "    print(\"Отвергаем нулевую гипотезу\")\n",
    "else:\n",
    "    print(\"Не получилось отвергнуть нулевую гипотезу\")"
   ]
  },
  {
   "cell_type": "markdown",
   "metadata": {},
   "source": [
    "Проверяем гипотезу, что средние пользовательские рейтинги жанров Action (англ. «действие», экшен-игры) и Sports (англ. «спортивные соревнования») разные. Начнем с формулировки нулевой гипотезы Н0. Она всегда формируется так, чтобы можно было использовать знак равенства.\n",
    "\n",
    "Н0:\n",
    "\n",
    "Средние пользовательские рейтинги жанров Action (англ. «действие», экшен-игры) и Sports (англ. «спортивные соревнования») равны. \n",
    "\n",
    "Исходя из Н0, формируется альтернативная гипотеза Н1:\n",
    "\n",
    "Средние пользовательские рейтинги жанров Action (англ. «действие», экшен-игры) и Sports (англ. «спортивные соревнования») различны. \n",
    "\n",
    "Пороговое значение alpha примем за 5%.\n",
    "\n",
    "Чтобы проверить дисперсию, применим тест Левена, вызвав метод st.levene(). Этот контрольный тест проверяет нулевую гипотезу о том, что все выборки происходят из популяций с равными дисперсиями.\n",
    "\n",
    "H0 - дисперсии выборок равны.\n",
    "\n",
    "H1 - дисперсии выборок различны."
   ]
  },
  {
   "cell_type": "code",
   "execution_count": 45,
   "metadata": {},
   "outputs": [],
   "source": [
    "df_action = df.query('genre in (\"Action\") and user_score >= 0')\n",
    "df_sports = df.query('genre in (\"Sports\") and user_score >= 0')"
   ]
  },
  {
   "cell_type": "code",
   "execution_count": 46,
   "metadata": {},
   "outputs": [
    {
     "name": "stdout",
     "output_type": "stream",
     "text": [
      "p-значение: 8.763985507235711e-05\n",
      "Отвергаем нулевую гипотезу\n"
     ]
    }
   ],
   "source": [
    "lpha = 0.05\n",
    "results = st.levene(df_action['user_score'].dropna(), df_sports['user_score'].dropna())\n",
    "print('p-значение:', results.pvalue)\n",
    "if (results.pvalue < alpha):\n",
    "    print(\"Отвергаем нулевую гипотезу\")\n",
    "else:\n",
    "    print(\"Не получилось отвергнуть нулевую гипотезу\")"
   ]
  },
  {
   "cell_type": "markdown",
   "metadata": {},
   "source": [
    "Когда критерий дисперсии не равны, мы можем продолжить и применить контроль t-теста, вызвав метод st.ttest_ind() к данным и использовать equal_var=False."
   ]
  },
  {
   "cell_type": "code",
   "execution_count": 47,
   "metadata": {},
   "outputs": [
    {
     "name": "stdout",
     "output_type": "stream",
     "text": [
      "p-значение: 0.07370217419278534\n",
      "Не получилось отвергнуть нулевую гипотезу\n"
     ]
    }
   ],
   "source": [
    "alpha = 0.05\n",
    "results = st.ttest_ind(df_action['user_score'], df_sports['user_score'], equal_var = False)\n",
    "print('p-значение:', results.pvalue)\n",
    "if (results.pvalue < alpha):\n",
    "    print(\"Отвергаем нулевую гипотезу\")\n",
    "else:\n",
    "    print(\"Не получилось отвергнуть нулевую гипотезу\")"
   ]
  },
  {
   "cell_type": "markdown",
   "metadata": {},
   "source": [
    "### Вывод"
   ]
  },
  {
   "cell_type": "markdown",
   "metadata": {},
   "source": [
    "Мы проверили две гипотезы. В первом случае не подтвердилась гипотеза, что средние пользовательские рейтинги платформ Xbox One и PC одинаковые. Во втором случае не подтвердилась гипотеза, что средние пользовательские рейтинги жанров Action и Sports разные, при установленном пороговом значении 5%."
   ]
  },
  {
   "cell_type": "markdown",
   "metadata": {},
   "source": [
    "### Шаг 6. Напишим общий вывод"
   ]
  },
  {
   "cell_type": "markdown",
   "metadata": {},
   "source": [
    "Мы сделали анализ компьютерных игр для интернет-магазина «Стримчик», который работает на мировом рынке. В нашем распоряжении были исторические данные из открытых источников о продажах игр, оценках пользователей и экспертов, жанрах и платформах. \n",
    "\n",
    "В ходе работы мы:\n",
    "\n",
    "- Изучили общую информацию о датасете, который содержал информацию о компьютерных играх. \n",
    "Спланировали дальнейшую работу.\n",
    "\n",
    "- Подготовили имеющиеся данные для анализа. \n",
    "Заменили названия столбцов, привели их к нижнему регистру, обработали пропуски в данных и объяснили почему заполнили их определенным образом, преобразовали нужные столбцы к нежному типу данных. Также в таблице посвился новый столбец, который показывает суммарные продажи во всех регионах.\n",
    "\n",
    "- Провели анализ данных. \n",
    "Изначально мы располагали данными об играх, выпускаемых с 1980 по 2016 годы. Отметили, что рост количества игр наблюдается с 1995 года, но больше всего игр выпускалось в 2008 и 2009 годах.  Самой продаваемой оказалась платформа PS2, пик ее продаж приходится на 2004 год. Немного по продажам ей уступает платформа Wii. Пик ее продаж приходится на 2009 год, стоит отметить, что в это время продажи PS2 серьезно сократились. С 2014 года популярность набирает платформа PS4. \n",
    "\n",
    "Также мы определили, что срок жизни платформы составляет примерно 10-11 лет, однако, например, жизнь платформы DS больше 10 лет. Наши расчеты показали, что средний срок жизни платформы 6-7 лет. Для исследования мы определили актуальный временной период, данные за который, помогут сделать прогноз на 2017 год – это период с 2013 по 2015 годы.  В указанный отрезок времени на рынке были представлены 11 платформ: PS4, PS3, X360, XOne, DS, WiiU, PC, PSV, Wii, PSP, DS. По продажам, два года из трех, лидировала PS4. В 2013 лидером по продажам была PS3, тогда PS4 только появилась на рынке. Самые низкие продажи у PSP и DS. С 2013 по 2015 годы росли продажи PS4 и XOne, продажи остальных платформ сокращались. Потенциально прибыльные платформы: PS4, XOne - продажи по ним растут; 3DS, PS3 и WiiU - продажи по ним или сократились, однако по сравнению с другими платформами они занимали свою долю на рынке. \n",
    "Самый популярный жанр Action. Следующими идут Simulation, Role-Playing, Sports. Эти три жанра компьютерных игр, существенно преобладают по прибыльности над остальными жанрами. Самые маленькие продажи имеют Puzzle и Strategy'.\n",
    "\n",
    "- Составили портрет пользователя каждого региона. \n",
    "    - ТОП-5 платформ в Европе (по убыванию): PS4, PS3, X360, XOne, 3DS.\n",
    "    - ТОП-5 платформ в Японии (по убыванию): 3DS, PS3, PSV, PS4, WiiU.\n",
    "    - ТОП-5 платформ в Северной Америке (по убыванию): PS4, X360, XOne, PS3, 3DS.\n",
    "        - ТОП-5 жанров в Европе (по убыванию): Action, Shooter, Sports, Role-Playing, Misc.\n",
    "        - ТОП-5 жанров в Японии (по убыванию): Role-Playing, Action, Misc, Fighting, Shooter.\n",
    "        - ТОП-5 жанров в Северной Америке (по убыванию): Action, Shooter, Sports, Role-Playing, Misc.\n",
    "\n",
    "PS4 стала лидером по продажам в Европе и Северной Америке, однако не стала такой популярной в Японии и заняла лишь четвертое место в ТОП-5. Зато в Японии лидером продаж стала 3DS, тогда как в Европе и Северной Америке, она занимает лишь пятое место. Стоит отметить, что доля продаж PS4 все-равно выше остальных платформ. Также, если сравнивать регионы по отдельности, можно отметить, что в Северной Америке, доли продаж четырех из пяти платформ, отличаются не сильно, тогда как в Европе и Японии имеется серьезный разрыв между первым и пятым местом.\n",
    "\n",
    "У европейцев и жителей Северной Америки предпочтения относительно жанров одинаковые. У пользователей из Японии, несмотря на пересечения в жанрах, свой взгляд на любимые компьютерные игры. Это можно объяснить разницей в менталитете наций.\n",
    "\n",
    "В Европе и Америке лучше продаются игры с рейтингом М, а затем Е, Е10+, Т. В Японии продажи выше у игр, с маркерным рейтингом undefined, дальше практически на ровне идут Т, Е и М. Можем предположить, что доля игр без рейтинга велика, потому что Entertainment Software Rating Board — негосударственная организация, основное направление деятельности — принятие и определение рейтингов для компьютерных видеоигр и другого развлекательного программного обеспечения в США и Канаде. Допускаем, что игры, которые не выходят официально на территории США и Канады не получают такой рейтинг. Возможно, рейтинг отсутствует у каких-то локальных игр, или в Японии есть своей рейтинг.\n",
    "\n",
    "Можно сказать, что рейтинг ESRB влияет на продажи в Европе и Америке, в Японии - незначительно.\n",
    "\n",
    "- Проверили гипотезы. \n",
    "\n",
    "В первом случае не подтвердилась гипотеза, что средние пользовательские рейтинги платформ Xbox One и PC одинаковые. Во втором случае не подтвердилась гипотеза, что средние пользовательские рейтинги жанров Action и Sports разные, при установленном пороговом значении 5%.\n",
    "\n",
    "#### <span style=\"color:black\"> Главный вывод </span><a class=\"tocSkip\">\n",
    "</div>\n",
    "можно сделать такой: планируя кампанию на 2017 год, стоит делать ставку на платформу PS4. Эта является в Абсолюте самой продаваемой, а значит прибыльной. Кроме того, в указанный период зафиксирован рост продаж, эта платформа молодая, с учетом жизненного цикла в 8-10 лет, в 2017 году ее резкого падения не случится. Также прибыль могут принести продажи платформ PS3, XOne, 3DS, WiiU, они еще пользуются спросами покупателей, но начинают терять обороты.\n",
    "\n",
    "Здесь стоит отметить, что несмотря на большую популярность платформы PS4, необходимо учитывать регион продаж. Так, если делать акцент на продажи в Японии, следует разработать альтернативную кампанию. В исследуемый период, там была популярна платформа 3DS, которая по общим показателям уже начала терять обороты. Нужно понять, почему Япония идет по-другому пути. Возможно, провести дополнительное исследование этого ранка. Или предложить игры для PS4, соответствующие жанровым запросам. \n",
    "\n",
    "В Европе и Америке самый популярный жанр Action, в Японии - Role-Playing. Стоит учитывать жанровые запросы для каждого региона. \n",
    "\n",
    "Тоже касается рейтинга ESRB. Для Европы и Америки актуален рейтинг М – «Для взрослых», тогда как для Японии рейтинг ESRB определить невозможно, но можно судить, что возрастная аудитория региона очень расплывчата, так, популярный там жанр Role-Playing может быть актуален и для детей, и для взрослых "
   ]
  }
 ],
 "metadata": {
  "kernelspec": {
   "display_name": "Python 3",
   "language": "python",
   "name": "python3"
  },
  "language_info": {
   "codemirror_mode": {
    "name": "ipython",
    "version": 3
   },
   "file_extension": ".py",
   "mimetype": "text/x-python",
   "name": "python",
   "nbconvert_exporter": "python",
   "pygments_lexer": "ipython3",
   "version": "3.8.8"
  },
  "toc": {
   "base_numbering": 1,
   "nav_menu": {},
   "number_sections": false,
   "sideBar": true,
   "skip_h1_title": true,
   "title_cell": "Оглавление",
   "title_sidebar": "Contents",
   "toc_cell": true,
   "toc_position": {},
   "toc_section_display": true,
   "toc_window_display": false
  }
 },
 "nbformat": 4,
 "nbformat_minor": 2
}
